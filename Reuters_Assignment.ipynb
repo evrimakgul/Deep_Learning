{
  "nbformat": 4,
  "nbformat_minor": 0,
  "metadata": {
    "kernelspec": {
      "name": "python3",
      "display_name": "Python 3"
    },
    "language_info": {
      "codemirror_mode": {
        "name": "ipython",
        "version": 3
      },
      "file_extension": ".py",
      "mimetype": "text/x-python",
      "name": "python",
      "nbconvert_exporter": "python",
      "pygments_lexer": "ipython3",
      "version": "3.6.8"
    },
    "colab": {
      "name": "Reuters_Assignment.ipynb",
      "provenance": [],
      "collapsed_sections": [],
      "include_colab_link": true
    },
    "accelerator": "GPU"
  },
  "cells": [
    {
      "cell_type": "markdown",
      "metadata": {
        "id": "view-in-github",
        "colab_type": "text"
      },
      "source": [
        "<a href=\"https://colab.research.google.com/github/evrimakgul/Deep_Learning/blob/master/Reuters_Assignment.ipynb\" target=\"_parent\"><img src=\"https://colab.research.google.com/assets/colab-badge.svg\" alt=\"Open In Colab\"/></a>"
      ]
    },
    {
      "cell_type": "markdown",
      "metadata": {
        "id": "4FejM0cEQXUP",
        "colab_type": "text"
      },
      "source": [
        "# Reuters Assingment\n",
        "## Adapted from Deep Learning with Python by Francois Chollet\n",
        "#### Using the IMDB jupyter notebook as an example follow the prompts below to build a neural network to classify Reuters news wires into 46 different categories."
      ]
    },
    {
      "cell_type": "code",
      "metadata": {
        "id": "VLYzbicKQXUX",
        "colab_type": "code",
        "outputId": "e898460e-2555-45c0-e559-74213918fcf0",
        "colab": {
          "base_uri": "https://localhost:8080/",
          "height": 17
        }
      },
      "source": [
        "from IPython.core.display import display, HTML\n",
        "display(HTML(\"<style>.container { width:95% !important; }</style>\"))"
      ],
      "execution_count": 1,
      "outputs": [
        {
          "output_type": "display_data",
          "data": {
            "text/html": [
              "<style>.container { width:95% !important; }</style>"
            ],
            "text/plain": [
              "<IPython.core.display.HTML object>"
            ]
          },
          "metadata": {
            "tags": []
          }
        }
      ]
    },
    {
      "cell_type": "code",
      "metadata": {
        "id": "aFH2CgDRQXVZ",
        "colab_type": "code",
        "outputId": "b93c9b47-eca9-450f-e901-867cbf20d931",
        "colab": {
          "base_uri": "https://localhost:8080/",
          "height": 68
        }
      },
      "source": [
        "# Select TensorFlow 2.X, numpy, pandas, and the dataset\n",
        "%tensorflow_version 2.x\n",
        "from tensorflow.keras import backend\n",
        "from tensorflow.keras.datasets import reuters\n",
        "import numpy as np\n",
        "import pandas as pd\n",
        "(train_data, train_labels), (test_data, test_labels) = reuters.load_data(num_words = 10000)"
      ],
      "execution_count": 2,
      "outputs": [
        {
          "output_type": "stream",
          "text": [
            "TensorFlow 2.x selected.\n",
            "Downloading data from https://storage.googleapis.com/tensorflow/tf-keras-datasets/reuters.npz\n",
            "2113536/2110848 [==============================] - 0s 0us/step\n"
          ],
          "name": "stdout"
        }
      ]
    },
    {
      "cell_type": "code",
      "metadata": {
        "id": "kckdgba5QXV2",
        "colab_type": "code",
        "outputId": "4d08bc0b-8d3e-474a-d701-f7a08889e49a",
        "colab": {
          "base_uri": "https://localhost:8080/",
          "height": 85
        }
      },
      "source": [
        "# Print the word index\n",
        "wi = reuters.get_word_index()\n",
        "print(tuple(wi.items())[0:9]) # the first 9 elements of the *wi* dictionary\n",
        "print(len(wi)) # number of words in the *wi* dictionary: 30979"
      ],
      "execution_count": 3,
      "outputs": [
        {
          "output_type": "stream",
          "text": [
            "Downloading data from https://storage.googleapis.com/tensorflow/tf-keras-datasets/reuters_word_index.json\n",
            "557056/550378 [==============================] - 0s 0us/step\n",
            "(('mdbl', 10996), ('fawc', 16260), ('degussa', 12089), ('woods', 8803), ('hanging', 13796), ('localized', 20672), ('sation', 20673), ('chanthaburi', 20675), ('refunding', 10997))\n",
            "30979\n"
          ],
          "name": "stdout"
        }
      ]
    },
    {
      "cell_type": "code",
      "metadata": {
        "id": "PbuwnzgM9gtp",
        "colab_type": "code",
        "outputId": "1928be39-5838-4aa7-b301-5c9540a0b8d7",
        "colab": {
          "base_uri": "https://localhost:8080/",
          "height": 170
        }
      },
      "source": [
        "import operator\n",
        "sorted_by_values = sorted(wi.items(), key=operator.itemgetter(1))\n",
        "sorted_by_values[:9] # the first 9 words by their usage frequency"
      ],
      "execution_count": 4,
      "outputs": [
        {
          "output_type": "execute_result",
          "data": {
            "text/plain": [
              "[('the', 1),\n",
              " ('of', 2),\n",
              " ('to', 3),\n",
              " ('in', 4),\n",
              " ('said', 5),\n",
              " ('and', 6),\n",
              " ('a', 7),\n",
              " ('mln', 8),\n",
              " ('3', 9)]"
            ]
          },
          "metadata": {
            "tags": []
          },
          "execution_count": 4
        }
      ]
    },
    {
      "cell_type": "code",
      "metadata": {
        "id": "35rwRsIeQXWZ",
        "colab_type": "code",
        "colab": {}
      },
      "source": [
        "# Here is the same function we created for vectorizing the IMDB data.\n",
        "def vectorize_sequences(sequences, dimension=10000):\n",
        "    results = np.zeros((len(sequences), dimension))\n",
        "    for i, sequence in enumerate(sequences):\n",
        "        results[i, sequence] = 1.\n",
        "    return results"
      ],
      "execution_count": 0,
      "outputs": []
    },
    {
      "cell_type": "code",
      "metadata": {
        "id": "ez2s5K3ZQXW2",
        "colab_type": "code",
        "outputId": "57744a7e-01ce-4428-c260-e95fdeb80427",
        "colab": {
          "base_uri": "https://localhost:8080/",
          "height": 85
        }
      },
      "source": [
        "# Vectorize the train_data and test_data\n",
        "x_train = vectorize_sequences(train_data)\n",
        "x_test = vectorize_sequences(test_data)\n",
        "x_train[0], x_test[0], len(x_train[0]), len(x_test[0])"
      ],
      "execution_count": 6,
      "outputs": [
        {
          "output_type": "execute_result",
          "data": {
            "text/plain": [
              "(array([0., 1., 1., ..., 0., 0., 0.]),\n",
              " array([0., 1., 1., ..., 0., 0., 0.]),\n",
              " 10000,\n",
              " 10000)"
            ]
          },
          "metadata": {
            "tags": []
          },
          "execution_count": 6
        }
      ]
    },
    {
      "cell_type": "code",
      "metadata": {
        "colab_type": "code",
        "outputId": "96106289-1411-4d5e-d68b-1bae2576ced1",
        "id": "JQmfljdbCNJr",
        "colab": {
          "base_uri": "https://localhost:8080/",
          "height": 85
        }
      },
      "source": [
        "# Print the unique train labels (there should be 46)\n",
        "label_list = []\n",
        "for i in train_labels:\n",
        "  if i not in label_list:\n",
        "    label_list.append(i)\n",
        "label_list = sorted(label_list)\n",
        "print(\"label list:\", label_list, \"\\nThere are\", len(label_list), \"unique labels in train_label list.\")\n",
        "\n",
        "# Print the shape of x_train\n",
        "print(\"\\nx_train shape:\", x_train.shape)"
      ],
      "execution_count": 7,
      "outputs": [
        {
          "output_type": "stream",
          "text": [
            "label list: [0, 1, 2, 3, 4, 5, 6, 7, 8, 9, 10, 11, 12, 13, 14, 15, 16, 17, 18, 19, 20, 21, 22, 23, 24, 25, 26, 27, 28, 29, 30, 31, 32, 33, 34, 35, 36, 37, 38, 39, 40, 41, 42, 43, 44, 45] \n",
            "There are 46 unique labels in train_label list.\n",
            "\n",
            "x_train shape: (8982, 10000)\n"
          ],
          "name": "stdout"
        }
      ]
    },
    {
      "cell_type": "code",
      "metadata": {
        "id": "ZQdFycDNQXXP",
        "colab_type": "code",
        "outputId": "dc4c5fcf-2806-4c4e-d512-5c8db3af61ee",
        "colab": {
          "base_uri": "https://localhost:8080/",
          "height": 34
        }
      },
      "source": [
        "# Keras has a built in function for catergoial encoding which we saw in the MNIST workbook\n",
        "from keras.utils.np_utils import to_categorical"
      ],
      "execution_count": 8,
      "outputs": [
        {
          "output_type": "stream",
          "text": [
            "Using TensorFlow backend.\n"
          ],
          "name": "stderr"
        }
      ]
    },
    {
      "cell_type": "code",
      "metadata": {
        "id": "GxIN1MYVhUL1",
        "colab_type": "code",
        "colab": {}
      },
      "source": [
        "# Convert the y targets to float32\n",
        "# y_train = np.asarray(train_labels).astype('float32')\n",
        "# y_test = np.asarray(test_labels).astype('float32')\n",
        "\n",
        "# y_train[0:9], y_test[0:9], len(y_train), len(y_test)\n",
        "# train_labels[0:9]\n",
        "\n",
        "train_labels = to_categorical(train_labels)\n",
        "test_labels = to_categorical(test_labels)"
      ],
      "execution_count": 0,
      "outputs": []
    },
    {
      "cell_type": "code",
      "metadata": {
        "id": "fB6Irop5QXXY",
        "colab_type": "code",
        "colab": {}
      },
      "source": [
        "# Vectorize the labels \n",
        "\n",
        "# I did not understand this. our labels are already a vector. "
      ],
      "execution_count": 0,
      "outputs": []
    },
    {
      "cell_type": "code",
      "metadata": {
        "id": "OP9I_bOUQXXk",
        "colab_type": "code",
        "colab": {}
      },
      "source": [
        "# Import models and layers from Keras\n",
        "from tensorflow.keras import models\n",
        "from tensorflow.keras import layers"
      ],
      "execution_count": 0,
      "outputs": []
    },
    {
      "cell_type": "code",
      "metadata": {
        "id": "zIXltq67QXXw",
        "colab_type": "code",
        "colab": {}
      },
      "source": [
        "# Build a sequential model network with 1 hidden layer. The input and hidden layer must have more hidden units than the number of classification categories.\n",
        "model = models.Sequential()\n",
        "model.add(layers.Dense(1472, activation='relu', input_shape=(10000,)))\n",
        "model.add(layers.Dense(736, activation = 'relu'))\n",
        "model.add(layers.Dense(368, activation = 'relu'))\n",
        "model.add(layers.Dense(184, activation = 'relu'))\n",
        "model.add(layers.Dense(92, activation = 'relu'))\n",
        "model.add(layers.Dense(46, activation='softmax'))\n",
        "\n",
        "# Things to think about, input and hidden layer activation, output activation for a multiclass problem, input shape, output units"
      ],
      "execution_count": 0,
      "outputs": []
    },
    {
      "cell_type": "code",
      "metadata": {
        "id": "NKDPXa4VQXX9",
        "colab_type": "code",
        "colab": {}
      },
      "source": [
        "# Compile the model. Think about what optimizer, loss function, and metrics will you use.\n",
        "model.compile(optimizer = 'adam', loss = 'categorical_crossentropy', metrics = ['accuracy'])"
      ],
      "execution_count": 0,
      "outputs": []
    },
    {
      "cell_type": "code",
      "metadata": {
        "id": "nzkEBYhhlG6B",
        "colab_type": "code",
        "colab": {}
      },
      "source": [
        "from sklearn.model_selection import train_test_split"
      ],
      "execution_count": 0,
      "outputs": []
    },
    {
      "cell_type": "code",
      "metadata": {
        "id": "Bogp4BrGQXYJ",
        "colab_type": "code",
        "outputId": "d9e6dd5c-5643-4c12-9829-04a1b97bbd7e",
        "colab": {
          "base_uri": "https://localhost:8080/",
          "height": 170
        }
      },
      "source": [
        "# Train your model on the training data for 20 epochs and 500 batch size and a validation split = 20%.\n",
        "x_train, x_valid, train_labels, y_valid = train_test_split(x_train, train_labels, test_size=0.10, shuffle= True)\n",
        "history = model.fit(x_train, train_labels, epochs=4, batch_size=500, validation_data = (x_valid, y_valid))"
      ],
      "execution_count": 15,
      "outputs": [
        {
          "output_type": "stream",
          "text": [
            "Train on 8083 samples, validate on 899 samples\n",
            "Epoch 1/4\n",
            "8083/8083 [==============================] - 3s 321us/sample - loss: 2.2103 - accuracy: 0.5043 - val_loss: 1.4928 - val_accuracy: 0.6908\n",
            "Epoch 2/4\n",
            "8083/8083 [==============================] - 1s 75us/sample - loss: 1.1893 - accuracy: 0.7223 - val_loss: 1.2332 - val_accuracy: 0.7175\n",
            "Epoch 3/4\n",
            "8083/8083 [==============================] - 1s 69us/sample - loss: 0.7798 - accuracy: 0.8029 - val_loss: 1.1159 - val_accuracy: 0.7642\n",
            "Epoch 4/4\n",
            "8083/8083 [==============================] - 1s 73us/sample - loss: 0.4819 - accuracy: 0.8757 - val_loss: 1.1609 - val_accuracy: 0.7809\n"
          ],
          "name": "stdout"
        }
      ]
    },
    {
      "cell_type": "code",
      "metadata": {
        "id": "sR-uHo3lQXYy",
        "colab_type": "code",
        "outputId": "8efe6c5c-0074-46bf-e504-a453968ab471",
        "colab": {
          "base_uri": "https://localhost:8080/",
          "height": 51
        }
      },
      "source": [
        "# Evaluate the model on the test data and print the results\n",
        "results = model.evaluate(x_test, test_labels)\n",
        "print(results)"
      ],
      "execution_count": 16,
      "outputs": [
        {
          "output_type": "stream",
          "text": [
            "2246/2246 [==============================] - 0s 128us/sample - loss: 1.2640 - accuracy: 0.7578\n",
            "[1.2640330485754105, 0.75779164]\n"
          ],
          "name": "stdout"
        }
      ]
    },
    {
      "cell_type": "code",
      "metadata": {
        "id": "a93HH_RGTlw5",
        "colab_type": "code",
        "outputId": "e9faeabf-a7fc-48b7-b03b-71481006f3a3",
        "colab": {
          "base_uri": "https://localhost:8080/",
          "height": 102
        }
      },
      "source": [
        "# Use this bit of code to view the History output.\n",
        "hist = pd.DataFrame(history.history)\n",
        "print(hist.tail())"
      ],
      "execution_count": 17,
      "outputs": [
        {
          "output_type": "stream",
          "text": [
            "       loss  accuracy  val_loss  val_accuracy\n",
            "0  2.210251  0.504268  1.492842      0.690768\n",
            "1  1.189282  0.722257  1.233201      0.717464\n",
            "2  0.779824  0.802920  1.115917      0.764182\n",
            "3  0.481936  0.875665  1.160948      0.780868\n"
          ],
          "name": "stdout"
        }
      ]
    },
    {
      "cell_type": "code",
      "metadata": {
        "id": "cFMw_I8FQXYU",
        "colab_type": "code",
        "colab": {}
      },
      "source": [
        "import matplotlib.pyplot as plt"
      ],
      "execution_count": 0,
      "outputs": []
    },
    {
      "cell_type": "code",
      "metadata": {
        "id": "2UC1Wq-0QXYd",
        "colab_type": "code",
        "colab": {}
      },
      "source": [
        "# Let's plot the loss and accuracy vs epochs\n",
        "history_dict = history.history\n",
        "loss_values = history_dict['loss']\n",
        "val_loss_values = history_dict['val_loss']\n",
        "acc_values = history_dict['accuracy']\n",
        "val_acc_values = history_dict['val_accuracy']\n",
        "epochs = range(1, len(history_dict['accuracy']) + 1)"
      ],
      "execution_count": 0,
      "outputs": []
    },
    {
      "cell_type": "code",
      "metadata": {
        "id": "RtdrPkJBQXYk",
        "colab_type": "code",
        "outputId": "c78800f9-2097-4d93-8fa1-1791c3333a9d",
        "colab": {
          "base_uri": "https://localhost:8080/",
          "height": 295
        }
      },
      "source": [
        "# Use the IMDB example to plot the validataion and training loss vs epocs\n",
        "plt.plot(epochs, loss_values, 'bo', label = 'Training loss')\n",
        "plt.plot(epochs, val_loss_values, 'b', label = 'Validation loss')\n",
        "plt.title('Training and validation loss')\n",
        "plt.xlabel('Epochs')\n",
        "plt.ylabel('Loss')\n",
        "plt.legend()\n",
        "plt.show()"
      ],
      "execution_count": 20,
      "outputs": [
        {
          "output_type": "display_data",
          "data": {
            "image/png": "[encoded data removed]",
            "text/plain": [
              "<Figure size 432x288 with 1 Axes>"
            ]
          },
          "metadata": {
            "tags": []
          }
        }
      ]
    },
    {
      "cell_type": "code",
      "metadata": {
        "id": "RBDWbbJUQXYt",
        "colab_type": "code",
        "outputId": "3df80b6a-2ee4-4e00-c330-630f3f221b64",
        "colab": {
          "base_uri": "https://localhost:8080/",
          "height": 295
        }
      },
      "source": [
        "# Use the IMDB example to plot the validataion and training accuracy vs epocs\n",
        "plt.plot(epochs, acc_values, 'bo', label = 'Training accuracy')\n",
        "plt.plot(epochs, val_acc_values, 'b', label = 'Validation accuracy')\n",
        "plt.title('Training and validation accuracy')\n",
        "plt.xlabel('Epochs')\n",
        "plt.ylabel('Accuracy')\n",
        "plt.legend()\n",
        "plt.show()"
      ],
      "execution_count": 21,
      "outputs": [
        {
          "output_type": "display_data",
          "data": {
            "image/png": "[encoded data removed]",
            "text/plain": [
              "<Figure size 432x288 with 1 Axes>"
            ]
          },
          "metadata": {
            "tags": []
          }
        }
      ]
    },
    {
      "cell_type": "code",
      "metadata": {
        "id": "y-tZ12BHQXY6",
        "colab_type": "code",
        "colab": {}
      },
      "source": [
        "# Clear your session using this command: backend.clear_session() \n",
        "# Build a new model and try to get the test accuracy above 80%\n",
        "# Things to try: more hidden layers and hiddent units, activation types, epochs, batch size, and validation_split.\n",
        "# Try as many models as you like.  Be sure to clear the session each time.  backend.clear_session() \n",
        "\n"
      ],
      "execution_count": 0,
      "outputs": []
    },
    {
      "cell_type": "code",
      "metadata": {
        "id": "_xy1Q-QwQXZB",
        "colab_type": "code",
        "colab": {}
      },
      "source": [
        "backend.clear_session()"
      ],
      "execution_count": 0,
      "outputs": []
    }
  ]
}