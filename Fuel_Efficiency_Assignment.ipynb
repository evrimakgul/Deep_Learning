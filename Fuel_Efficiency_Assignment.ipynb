{
  "nbformat": 4,
  "nbformat_minor": 0,
  "metadata": {
    "colab": {
      "name": "Fuel_Efficiency_Assignment.ipynb",
      "provenance": [],
      "collapsed_sections": [],
      "include_colab_link": true
    },
    "kernelspec": {
      "name": "python3",
      "display_name": "Python 3"
    },
    "language_info": {
      "codemirror_mode": {
        "name": "ipython",
        "version": 3
      },
      "file_extension": ".py",
      "mimetype": "text/x-python",
      "name": "python",
      "nbconvert_exporter": "python",
      "pygments_lexer": "ipython3",
      "version": "3.6.8"
    },
    "accelerator": "GPU"
  },
  "cells": [
    {
      "cell_type": "markdown",
      "metadata": {
        "id": "view-in-github",
        "colab_type": "text"
      },
      "source": [
        "<a href=\"https://colab.research.google.com/github/evrimakgul/Deep_Learning/blob/master/Fuel_Efficiency_Assignment.ipynb\" target=\"_parent\"><img src=\"https://colab.research.google.com/assets/colab-badge.svg\" alt=\"Open In Colab\"/></a>"
      ]
    },
    {
      "cell_type": "markdown",
      "metadata": {
        "colab_type": "text",
        "id": "KVqVcVDo9aUi"
      },
      "source": [
        "# Fuel Efficiency Assingment\n",
        "## Adapted from TensorFlow Tutorials\n",
        "#### Using the Boston Housing jupyter notebook as an example follow the prompts below to build a neural network to predict vehicle fuel efficiency"
      ]
    },
    {
      "cell_type": "code",
      "metadata": {
        "colab_type": "code",
        "id": "uuLZ2hhn9aUs",
        "outputId": "7823bcb8-97b4-46fa-b077-e10ed498cad4",
        "colab": {
          "base_uri": "https://localhost:8080/",
          "height": 17
        }
      },
      "source": [
        "from IPython.core.display import display, HTML\n",
        "display(HTML(\"<style>.container { width:95% !important; }</style>\"))"
      ],
      "execution_count": 1,
      "outputs": [
        {
          "output_type": "display_data",
          "data": {
            "text/html": [
              "<style>.container { width:95% !important; }</style>"
            ],
            "text/plain": [
              "<IPython.core.display.HTML object>"
            ]
          },
          "metadata": {
            "tags": []
          }
        }
      ]
    },
    {
      "cell_type": "code",
      "metadata": {
        "colab_type": "code",
        "id": "gB-uz88U9aVH",
        "colab": {
          "base_uri": "https://localhost:8080/",
          "height": 34
        },
        "outputId": "9b5f8ca5-a789-4c05-c7fc-3f96faba0950"
      },
      "source": [
        "# Import the necessary libraries\n",
        "%tensorflow_version 2.x \n",
        "import matplotlib.pyplot as plt\n",
        "import pandas as pd\n",
        "import tensorflow as tf\n",
        "from tensorflow import keras\n",
        "from sklearn.model_selection import train_test_split\n",
        "from tensorflow.keras import models\n",
        "from tensorflow.keras import layers\n",
        "from tensorflow.keras import backend\n"
      ],
      "execution_count": 2,
      "outputs": [
        {
          "output_type": "stream",
          "text": [
            "TensorFlow 2.x selected.\n"
          ],
          "name": "stdout"
        }
      ]
    },
    {
      "cell_type": "code",
      "metadata": {
        "colab_type": "code",
        "id": "xHSh7Wz79iiN",
        "colab": {}
      },
      "source": [
        "# Download the dataset\n",
        "dataset_path = keras.utils.get_file(\"auto-mpg.data\", \"http://archive.ics.uci.edu/ml/machine-learning-databases/auto-mpg/auto-mpg.data\")"
      ],
      "execution_count": 0,
      "outputs": []
    },
    {
      "cell_type": "code",
      "metadata": {
        "colab_type": "code",
        "id": "joNdceRk9aVX",
        "outputId": "ece1b0c3-aaf0-467a-c51d-096b69057424",
        "colab": {
          "base_uri": "https://localhost:8080/",
          "height": 204
        }
      },
      "source": [
        "# Add labels to columns and view dataset\n",
        "column_names = ['MPG','Cylinders','Displacement','Horsepower','Weight',\n",
        "                'Acceleration', 'Model Year', 'Origin']\n",
        "raw_dataset = pd.read_csv(dataset_path, names=column_names,\n",
        "                      na_values = \"?\", comment='\\t',\n",
        "                      sep=\" \", skipinitialspace=True)\n",
        "\n",
        "dataset = raw_dataset.copy()\n",
        "dataset.tail()"
      ],
      "execution_count": 4,
      "outputs": [
        {
          "output_type": "execute_result",
          "data": {
            "text/html": [
              "<div>\n",
              "<style scoped>\n",
              "    .dataframe tbody tr th:only-of-type {\n",
              "        vertical-align: middle;\n",
              "    }\n",
              "\n",
              "    .dataframe tbody tr th {\n",
              "        vertical-align: top;\n",
              "    }\n",
              "\n",
              "    .dataframe thead th {\n",
              "        text-align: right;\n",
              "    }\n",
              "</style>\n",
              "<table border=\"1\" class=\"dataframe\">\n",
              "  <thead>\n",
              "    <tr style=\"text-align: right;\">\n",
              "      <th></th>\n",
              "      <th>MPG</th>\n",
              "      <th>Cylinders</th>\n",
              "      <th>Displacement</th>\n",
              "      <th>Horsepower</th>\n",
              "      <th>Weight</th>\n",
              "      <th>Acceleration</th>\n",
              "      <th>Model Year</th>\n",
              "      <th>Origin</th>\n",
              "    </tr>\n",
              "  </thead>\n",
              "  <tbody>\n",
              "    <tr>\n",
              "      <th>393</th>\n",
              "      <td>27.0</td>\n",
              "      <td>4</td>\n",
              "      <td>140.0</td>\n",
              "      <td>86.0</td>\n",
              "      <td>2790.0</td>\n",
              "      <td>15.6</td>\n",
              "      <td>82</td>\n",
              "      <td>1</td>\n",
              "    </tr>\n",
              "    <tr>\n",
              "      <th>394</th>\n",
              "      <td>44.0</td>\n",
              "      <td>4</td>\n",
              "      <td>97.0</td>\n",
              "      <td>52.0</td>\n",
              "      <td>2130.0</td>\n",
              "      <td>24.6</td>\n",
              "      <td>82</td>\n",
              "      <td>2</td>\n",
              "    </tr>\n",
              "    <tr>\n",
              "      <th>395</th>\n",
              "      <td>32.0</td>\n",
              "      <td>4</td>\n",
              "      <td>135.0</td>\n",
              "      <td>84.0</td>\n",
              "      <td>2295.0</td>\n",
              "      <td>11.6</td>\n",
              "      <td>82</td>\n",
              "      <td>1</td>\n",
              "    </tr>\n",
              "    <tr>\n",
              "      <th>396</th>\n",
              "      <td>28.0</td>\n",
              "      <td>4</td>\n",
              "      <td>120.0</td>\n",
              "      <td>79.0</td>\n",
              "      <td>2625.0</td>\n",
              "      <td>18.6</td>\n",
              "      <td>82</td>\n",
              "      <td>1</td>\n",
              "    </tr>\n",
              "    <tr>\n",
              "      <th>397</th>\n",
              "      <td>31.0</td>\n",
              "      <td>4</td>\n",
              "      <td>119.0</td>\n",
              "      <td>82.0</td>\n",
              "      <td>2720.0</td>\n",
              "      <td>19.4</td>\n",
              "      <td>82</td>\n",
              "      <td>1</td>\n",
              "    </tr>\n",
              "  </tbody>\n",
              "</table>\n",
              "</div>"
            ],
            "text/plain": [
              "      MPG  Cylinders  Displacement  ...  Acceleration  Model Year  Origin\n",
              "393  27.0          4         140.0  ...          15.6          82       1\n",
              "394  44.0          4          97.0  ...          24.6          82       2\n",
              "395  32.0          4         135.0  ...          11.6          82       1\n",
              "396  28.0          4         120.0  ...          18.6          82       1\n",
              "397  31.0          4         119.0  ...          19.4          82       1\n",
              "\n",
              "[5 rows x 8 columns]"
            ]
          },
          "metadata": {
            "tags": []
          },
          "execution_count": 4
        }
      ]
    },
    {
      "cell_type": "code",
      "metadata": {
        "colab_type": "code",
        "id": "g_McGq3q_MPS",
        "outputId": "ca67a814-4fa7-4088-dce6-76ff2cd093cd",
        "colab": {
          "base_uri": "https://localhost:8080/",
          "height": 204
        }
      },
      "source": [
        "# Vehicle orgin needs to be encoded to factors.  \n",
        "origin = dataset.pop('Origin')\n",
        "dataset['USA'] = (origin == 1)*1.0\n",
        "dataset['Europe'] = (origin == 2)*1.0\n",
        "dataset['Japan'] = (origin == 3)*1.0\n",
        "dataset.tail()"
      ],
      "execution_count": 5,
      "outputs": [
        {
          "output_type": "execute_result",
          "data": {
            "text/html": [
              "<div>\n",
              "<style scoped>\n",
              "    .dataframe tbody tr th:only-of-type {\n",
              "        vertical-align: middle;\n",
              "    }\n",
              "\n",
              "    .dataframe tbody tr th {\n",
              "        vertical-align: top;\n",
              "    }\n",
              "\n",
              "    .dataframe thead th {\n",
              "        text-align: right;\n",
              "    }\n",
              "</style>\n",
              "<table border=\"1\" class=\"dataframe\">\n",
              "  <thead>\n",
              "    <tr style=\"text-align: right;\">\n",
              "      <th></th>\n",
              "      <th>MPG</th>\n",
              "      <th>Cylinders</th>\n",
              "      <th>Displacement</th>\n",
              "      <th>Horsepower</th>\n",
              "      <th>Weight</th>\n",
              "      <th>Acceleration</th>\n",
              "      <th>Model Year</th>\n",
              "      <th>USA</th>\n",
              "      <th>Europe</th>\n",
              "      <th>Japan</th>\n",
              "    </tr>\n",
              "  </thead>\n",
              "  <tbody>\n",
              "    <tr>\n",
              "      <th>393</th>\n",
              "      <td>27.0</td>\n",
              "      <td>4</td>\n",
              "      <td>140.0</td>\n",
              "      <td>86.0</td>\n",
              "      <td>2790.0</td>\n",
              "      <td>15.6</td>\n",
              "      <td>82</td>\n",
              "      <td>1.0</td>\n",
              "      <td>0.0</td>\n",
              "      <td>0.0</td>\n",
              "    </tr>\n",
              "    <tr>\n",
              "      <th>394</th>\n",
              "      <td>44.0</td>\n",
              "      <td>4</td>\n",
              "      <td>97.0</td>\n",
              "      <td>52.0</td>\n",
              "      <td>2130.0</td>\n",
              "      <td>24.6</td>\n",
              "      <td>82</td>\n",
              "      <td>0.0</td>\n",
              "      <td>1.0</td>\n",
              "      <td>0.0</td>\n",
              "    </tr>\n",
              "    <tr>\n",
              "      <th>395</th>\n",
              "      <td>32.0</td>\n",
              "      <td>4</td>\n",
              "      <td>135.0</td>\n",
              "      <td>84.0</td>\n",
              "      <td>2295.0</td>\n",
              "      <td>11.6</td>\n",
              "      <td>82</td>\n",
              "      <td>1.0</td>\n",
              "      <td>0.0</td>\n",
              "      <td>0.0</td>\n",
              "    </tr>\n",
              "    <tr>\n",
              "      <th>396</th>\n",
              "      <td>28.0</td>\n",
              "      <td>4</td>\n",
              "      <td>120.0</td>\n",
              "      <td>79.0</td>\n",
              "      <td>2625.0</td>\n",
              "      <td>18.6</td>\n",
              "      <td>82</td>\n",
              "      <td>1.0</td>\n",
              "      <td>0.0</td>\n",
              "      <td>0.0</td>\n",
              "    </tr>\n",
              "    <tr>\n",
              "      <th>397</th>\n",
              "      <td>31.0</td>\n",
              "      <td>4</td>\n",
              "      <td>119.0</td>\n",
              "      <td>82.0</td>\n",
              "      <td>2720.0</td>\n",
              "      <td>19.4</td>\n",
              "      <td>82</td>\n",
              "      <td>1.0</td>\n",
              "      <td>0.0</td>\n",
              "      <td>0.0</td>\n",
              "    </tr>\n",
              "  </tbody>\n",
              "</table>\n",
              "</div>"
            ],
            "text/plain": [
              "      MPG  Cylinders  Displacement  Horsepower  ...  Model Year  USA  Europe  Japan\n",
              "393  27.0          4         140.0        86.0  ...          82  1.0     0.0    0.0\n",
              "394  44.0          4          97.0        52.0  ...          82  0.0     1.0    0.0\n",
              "395  32.0          4         135.0        84.0  ...          82  1.0     0.0    0.0\n",
              "396  28.0          4         120.0        79.0  ...          82  1.0     0.0    0.0\n",
              "397  31.0          4         119.0        82.0  ...          82  1.0     0.0    0.0\n",
              "\n",
              "[5 rows x 10 columns]"
            ]
          },
          "metadata": {
            "tags": []
          },
          "execution_count": 5
        }
      ]
    },
    {
      "cell_type": "code",
      "metadata": {
        "colab_type": "code",
        "id": "cQWXC9pi_DHE",
        "outputId": "ef88d63d-6505-45ab-cfca-fd3a889cafbb",
        "colab": {
          "base_uri": "https://localhost:8080/",
          "height": 507
        }
      },
      "source": [
        "# Remove missing data\n",
        "print(dataset.info()) # there are 6 NaN values in Horsepower column, therefore we drop them from the dataset.\n",
        "dataset[dataset[\"Horsepower\"].isna()] # the NaN valued rows are displayed below."
      ],
      "execution_count": 6,
      "outputs": [
        {
          "output_type": "stream",
          "text": [
            "<class 'pandas.core.frame.DataFrame'>\n",
            "RangeIndex: 398 entries, 0 to 397\n",
            "Data columns (total 10 columns):\n",
            "MPG             398 non-null float64\n",
            "Cylinders       398 non-null int64\n",
            "Displacement    398 non-null float64\n",
            "Horsepower      392 non-null float64\n",
            "Weight          398 non-null float64\n",
            "Acceleration    398 non-null float64\n",
            "Model Year      398 non-null int64\n",
            "USA             398 non-null float64\n",
            "Europe          398 non-null float64\n",
            "Japan           398 non-null float64\n",
            "dtypes: float64(8), int64(2)\n",
            "memory usage: 31.2 KB\n",
            "None\n"
          ],
          "name": "stdout"
        },
        {
          "output_type": "execute_result",
          "data": {
            "text/html": [
              "<div>\n",
              "<style scoped>\n",
              "    .dataframe tbody tr th:only-of-type {\n",
              "        vertical-align: middle;\n",
              "    }\n",
              "\n",
              "    .dataframe tbody tr th {\n",
              "        vertical-align: top;\n",
              "    }\n",
              "\n",
              "    .dataframe thead th {\n",
              "        text-align: right;\n",
              "    }\n",
              "</style>\n",
              "<table border=\"1\" class=\"dataframe\">\n",
              "  <thead>\n",
              "    <tr style=\"text-align: right;\">\n",
              "      <th></th>\n",
              "      <th>MPG</th>\n",
              "      <th>Cylinders</th>\n",
              "      <th>Displacement</th>\n",
              "      <th>Horsepower</th>\n",
              "      <th>Weight</th>\n",
              "      <th>Acceleration</th>\n",
              "      <th>Model Year</th>\n",
              "      <th>USA</th>\n",
              "      <th>Europe</th>\n",
              "      <th>Japan</th>\n",
              "    </tr>\n",
              "  </thead>\n",
              "  <tbody>\n",
              "    <tr>\n",
              "      <th>32</th>\n",
              "      <td>25.0</td>\n",
              "      <td>4</td>\n",
              "      <td>98.0</td>\n",
              "      <td>NaN</td>\n",
              "      <td>2046.0</td>\n",
              "      <td>19.0</td>\n",
              "      <td>71</td>\n",
              "      <td>1.0</td>\n",
              "      <td>0.0</td>\n",
              "      <td>0.0</td>\n",
              "    </tr>\n",
              "    <tr>\n",
              "      <th>126</th>\n",
              "      <td>21.0</td>\n",
              "      <td>6</td>\n",
              "      <td>200.0</td>\n",
              "      <td>NaN</td>\n",
              "      <td>2875.0</td>\n",
              "      <td>17.0</td>\n",
              "      <td>74</td>\n",
              "      <td>1.0</td>\n",
              "      <td>0.0</td>\n",
              "      <td>0.0</td>\n",
              "    </tr>\n",
              "    <tr>\n",
              "      <th>330</th>\n",
              "      <td>40.9</td>\n",
              "      <td>4</td>\n",
              "      <td>85.0</td>\n",
              "      <td>NaN</td>\n",
              "      <td>1835.0</td>\n",
              "      <td>17.3</td>\n",
              "      <td>80</td>\n",
              "      <td>0.0</td>\n",
              "      <td>1.0</td>\n",
              "      <td>0.0</td>\n",
              "    </tr>\n",
              "    <tr>\n",
              "      <th>336</th>\n",
              "      <td>23.6</td>\n",
              "      <td>4</td>\n",
              "      <td>140.0</td>\n",
              "      <td>NaN</td>\n",
              "      <td>2905.0</td>\n",
              "      <td>14.3</td>\n",
              "      <td>80</td>\n",
              "      <td>1.0</td>\n",
              "      <td>0.0</td>\n",
              "      <td>0.0</td>\n",
              "    </tr>\n",
              "    <tr>\n",
              "      <th>354</th>\n",
              "      <td>34.5</td>\n",
              "      <td>4</td>\n",
              "      <td>100.0</td>\n",
              "      <td>NaN</td>\n",
              "      <td>2320.0</td>\n",
              "      <td>15.8</td>\n",
              "      <td>81</td>\n",
              "      <td>0.0</td>\n",
              "      <td>1.0</td>\n",
              "      <td>0.0</td>\n",
              "    </tr>\n",
              "    <tr>\n",
              "      <th>374</th>\n",
              "      <td>23.0</td>\n",
              "      <td>4</td>\n",
              "      <td>151.0</td>\n",
              "      <td>NaN</td>\n",
              "      <td>3035.0</td>\n",
              "      <td>20.5</td>\n",
              "      <td>82</td>\n",
              "      <td>1.0</td>\n",
              "      <td>0.0</td>\n",
              "      <td>0.0</td>\n",
              "    </tr>\n",
              "  </tbody>\n",
              "</table>\n",
              "</div>"
            ],
            "text/plain": [
              "      MPG  Cylinders  Displacement  Horsepower  ...  Model Year  USA  Europe  Japan\n",
              "32   25.0          4          98.0         NaN  ...          71  1.0     0.0    0.0\n",
              "126  21.0          6         200.0         NaN  ...          74  1.0     0.0    0.0\n",
              "330  40.9          4          85.0         NaN  ...          80  0.0     1.0    0.0\n",
              "336  23.6          4         140.0         NaN  ...          80  1.0     0.0    0.0\n",
              "354  34.5          4         100.0         NaN  ...          81  0.0     1.0    0.0\n",
              "374  23.0          4         151.0         NaN  ...          82  1.0     0.0    0.0\n",
              "\n",
              "[6 rows x 10 columns]"
            ]
          },
          "metadata": {
            "tags": []
          },
          "execution_count": 6
        }
      ]
    },
    {
      "cell_type": "code",
      "metadata": {
        "id": "ru81d1zUsHia",
        "colab_type": "code",
        "outputId": "f9e6fd2a-aa15-4d82-c679-e61e32a0de09",
        "colab": {
          "base_uri": "https://localhost:8080/",
          "height": 204
        }
      },
      "source": [
        "# Dropped rows with NaN values\n",
        "dataset = dataset.dropna()\n",
        "dataset[30:35] # As we can see row 32 is not in our dataset anymore."
      ],
      "execution_count": 7,
      "outputs": [
        {
          "output_type": "execute_result",
          "data": {
            "text/html": [
              "<div>\n",
              "<style scoped>\n",
              "    .dataframe tbody tr th:only-of-type {\n",
              "        vertical-align: middle;\n",
              "    }\n",
              "\n",
              "    .dataframe tbody tr th {\n",
              "        vertical-align: top;\n",
              "    }\n",
              "\n",
              "    .dataframe thead th {\n",
              "        text-align: right;\n",
              "    }\n",
              "</style>\n",
              "<table border=\"1\" class=\"dataframe\">\n",
              "  <thead>\n",
              "    <tr style=\"text-align: right;\">\n",
              "      <th></th>\n",
              "      <th>MPG</th>\n",
              "      <th>Cylinders</th>\n",
              "      <th>Displacement</th>\n",
              "      <th>Horsepower</th>\n",
              "      <th>Weight</th>\n",
              "      <th>Acceleration</th>\n",
              "      <th>Model Year</th>\n",
              "      <th>USA</th>\n",
              "      <th>Europe</th>\n",
              "      <th>Japan</th>\n",
              "    </tr>\n",
              "  </thead>\n",
              "  <tbody>\n",
              "    <tr>\n",
              "      <th>30</th>\n",
              "      <td>28.0</td>\n",
              "      <td>4</td>\n",
              "      <td>140.0</td>\n",
              "      <td>90.0</td>\n",
              "      <td>2264.0</td>\n",
              "      <td>15.5</td>\n",
              "      <td>71</td>\n",
              "      <td>1.0</td>\n",
              "      <td>0.0</td>\n",
              "      <td>0.0</td>\n",
              "    </tr>\n",
              "    <tr>\n",
              "      <th>31</th>\n",
              "      <td>25.0</td>\n",
              "      <td>4</td>\n",
              "      <td>113.0</td>\n",
              "      <td>95.0</td>\n",
              "      <td>2228.0</td>\n",
              "      <td>14.0</td>\n",
              "      <td>71</td>\n",
              "      <td>0.0</td>\n",
              "      <td>0.0</td>\n",
              "      <td>1.0</td>\n",
              "    </tr>\n",
              "    <tr>\n",
              "      <th>33</th>\n",
              "      <td>19.0</td>\n",
              "      <td>6</td>\n",
              "      <td>232.0</td>\n",
              "      <td>100.0</td>\n",
              "      <td>2634.0</td>\n",
              "      <td>13.0</td>\n",
              "      <td>71</td>\n",
              "      <td>1.0</td>\n",
              "      <td>0.0</td>\n",
              "      <td>0.0</td>\n",
              "    </tr>\n",
              "    <tr>\n",
              "      <th>34</th>\n",
              "      <td>16.0</td>\n",
              "      <td>6</td>\n",
              "      <td>225.0</td>\n",
              "      <td>105.0</td>\n",
              "      <td>3439.0</td>\n",
              "      <td>15.5</td>\n",
              "      <td>71</td>\n",
              "      <td>1.0</td>\n",
              "      <td>0.0</td>\n",
              "      <td>0.0</td>\n",
              "    </tr>\n",
              "    <tr>\n",
              "      <th>35</th>\n",
              "      <td>17.0</td>\n",
              "      <td>6</td>\n",
              "      <td>250.0</td>\n",
              "      <td>100.0</td>\n",
              "      <td>3329.0</td>\n",
              "      <td>15.5</td>\n",
              "      <td>71</td>\n",
              "      <td>1.0</td>\n",
              "      <td>0.0</td>\n",
              "      <td>0.0</td>\n",
              "    </tr>\n",
              "  </tbody>\n",
              "</table>\n",
              "</div>"
            ],
            "text/plain": [
              "     MPG  Cylinders  Displacement  Horsepower  ...  Model Year  USA  Europe  Japan\n",
              "30  28.0          4         140.0        90.0  ...          71  1.0     0.0    0.0\n",
              "31  25.0          4         113.0        95.0  ...          71  0.0     0.0    1.0\n",
              "33  19.0          6         232.0       100.0  ...          71  1.0     0.0    0.0\n",
              "34  16.0          6         225.0       105.0  ...          71  1.0     0.0    0.0\n",
              "35  17.0          6         250.0       100.0  ...          71  1.0     0.0    0.0\n",
              "\n",
              "[5 rows x 10 columns]"
            ]
          },
          "metadata": {
            "tags": []
          },
          "execution_count": 7
        }
      ]
    },
    {
      "cell_type": "code",
      "metadata": {
        "colab_type": "code",
        "id": "sKLtoKX2OTvJ",
        "colab": {}
      },
      "source": [
        "# Split dataset into y tragets and remove the targets from the dataset.  We are predicting MPG (fuel efficiencey) so the targets are MPG\n",
        "x_predictors = dataset\n",
        "y_targets = dataset.pop(\"MPG\")"
      ],
      "execution_count": 0,
      "outputs": []
    },
    {
      "cell_type": "code",
      "metadata": {
        "id": "_xnHRSB0wx_N",
        "colab_type": "code",
        "outputId": "81185143-c87d-4d20-d38b-b7b44da8f889",
        "colab": {
          "base_uri": "https://localhost:8080/",
          "height": 204
        }
      },
      "source": [
        "x_predictors.tail()"
      ],
      "execution_count": 9,
      "outputs": [
        {
          "output_type": "execute_result",
          "data": {
            "text/html": [
              "<div>\n",
              "<style scoped>\n",
              "    .dataframe tbody tr th:only-of-type {\n",
              "        vertical-align: middle;\n",
              "    }\n",
              "\n",
              "    .dataframe tbody tr th {\n",
              "        vertical-align: top;\n",
              "    }\n",
              "\n",
              "    .dataframe thead th {\n",
              "        text-align: right;\n",
              "    }\n",
              "</style>\n",
              "<table border=\"1\" class=\"dataframe\">\n",
              "  <thead>\n",
              "    <tr style=\"text-align: right;\">\n",
              "      <th></th>\n",
              "      <th>Cylinders</th>\n",
              "      <th>Displacement</th>\n",
              "      <th>Horsepower</th>\n",
              "      <th>Weight</th>\n",
              "      <th>Acceleration</th>\n",
              "      <th>Model Year</th>\n",
              "      <th>USA</th>\n",
              "      <th>Europe</th>\n",
              "      <th>Japan</th>\n",
              "    </tr>\n",
              "  </thead>\n",
              "  <tbody>\n",
              "    <tr>\n",
              "      <th>393</th>\n",
              "      <td>4</td>\n",
              "      <td>140.0</td>\n",
              "      <td>86.0</td>\n",
              "      <td>2790.0</td>\n",
              "      <td>15.6</td>\n",
              "      <td>82</td>\n",
              "      <td>1.0</td>\n",
              "      <td>0.0</td>\n",
              "      <td>0.0</td>\n",
              "    </tr>\n",
              "    <tr>\n",
              "      <th>394</th>\n",
              "      <td>4</td>\n",
              "      <td>97.0</td>\n",
              "      <td>52.0</td>\n",
              "      <td>2130.0</td>\n",
              "      <td>24.6</td>\n",
              "      <td>82</td>\n",
              "      <td>0.0</td>\n",
              "      <td>1.0</td>\n",
              "      <td>0.0</td>\n",
              "    </tr>\n",
              "    <tr>\n",
              "      <th>395</th>\n",
              "      <td>4</td>\n",
              "      <td>135.0</td>\n",
              "      <td>84.0</td>\n",
              "      <td>2295.0</td>\n",
              "      <td>11.6</td>\n",
              "      <td>82</td>\n",
              "      <td>1.0</td>\n",
              "      <td>0.0</td>\n",
              "      <td>0.0</td>\n",
              "    </tr>\n",
              "    <tr>\n",
              "      <th>396</th>\n",
              "      <td>4</td>\n",
              "      <td>120.0</td>\n",
              "      <td>79.0</td>\n",
              "      <td>2625.0</td>\n",
              "      <td>18.6</td>\n",
              "      <td>82</td>\n",
              "      <td>1.0</td>\n",
              "      <td>0.0</td>\n",
              "      <td>0.0</td>\n",
              "    </tr>\n",
              "    <tr>\n",
              "      <th>397</th>\n",
              "      <td>4</td>\n",
              "      <td>119.0</td>\n",
              "      <td>82.0</td>\n",
              "      <td>2720.0</td>\n",
              "      <td>19.4</td>\n",
              "      <td>82</td>\n",
              "      <td>1.0</td>\n",
              "      <td>0.0</td>\n",
              "      <td>0.0</td>\n",
              "    </tr>\n",
              "  </tbody>\n",
              "</table>\n",
              "</div>"
            ],
            "text/plain": [
              "     Cylinders  Displacement  Horsepower  ...  USA  Europe  Japan\n",
              "393          4         140.0        86.0  ...  1.0     0.0    0.0\n",
              "394          4          97.0        52.0  ...  0.0     1.0    0.0\n",
              "395          4         135.0        84.0  ...  1.0     0.0    0.0\n",
              "396          4         120.0        79.0  ...  1.0     0.0    0.0\n",
              "397          4         119.0        82.0  ...  1.0     0.0    0.0\n",
              "\n",
              "[5 rows x 9 columns]"
            ]
          },
          "metadata": {
            "tags": []
          },
          "execution_count": 9
        }
      ]
    },
    {
      "cell_type": "code",
      "metadata": {
        "id": "zquhZ40dxAn1",
        "colab_type": "code",
        "outputId": "494b5381-c345-4c4e-e2d3-e01bb2d06665",
        "colab": {
          "base_uri": "https://localhost:8080/",
          "height": 119
        }
      },
      "source": [
        "y_targets.tail()"
      ],
      "execution_count": 10,
      "outputs": [
        {
          "output_type": "execute_result",
          "data": {
            "text/plain": [
              "393    27.0\n",
              "394    44.0\n",
              "395    32.0\n",
              "396    28.0\n",
              "397    31.0\n",
              "Name: MPG, dtype: float64"
            ]
          },
          "metadata": {
            "tags": []
          },
          "execution_count": 10
        }
      ]
    },
    {
      "cell_type": "code",
      "metadata": {
        "colab_type": "code",
        "id": "EADoX6GgN22P",
        "colab": {}
      },
      "source": [
        "# Spit the dataset into x_train, x_test, y_train, y_test.  \n",
        "x_train, x_test, y_train, y_test = train_test_split(x_predictors, y_targets, test_size=0.2, shuffle=True)"
      ],
      "execution_count": 0,
      "outputs": []
    },
    {
      "cell_type": "code",
      "metadata": {
        "id": "deTPrkv1rHAA",
        "colab_type": "code",
        "outputId": "6513b1bc-d731-4870-f1f7-55ce7f6560d0",
        "colab": {
          "base_uri": "https://localhost:8080/",
          "height": 612
        }
      },
      "source": [
        "# Our newly splitted and created data segments.\n",
        "print(\"number of train data:\", len(x_train), \"\\n\", x_train.head(), \n",
        "      \"\\n\\n\", \"number of test data:\", len(x_test), \"\\n\", x_test.head(), \n",
        "      \"\\n\\n\", \"number of train target:\", len(y_train), \"\\n\", y_train.head(), \n",
        "      \"\\n\\n\", \"number of test target:\", len(y_test), \"\\n\", y_test.head())\n",
        "\n",
        "# Our final data is 313 for training in 9 features\n",
        "              # and 79 for test"
      ],
      "execution_count": 12,
      "outputs": [
        {
          "output_type": "stream",
          "text": [
            "number of train data: 313 \n",
            "      Cylinders  Displacement  Horsepower  ...  USA  Europe  Japan\n",
            "30           4         140.0        90.0  ...  1.0     0.0    0.0\n",
            "200          6         250.0        78.0  ...  1.0     0.0    0.0\n",
            "293          4          89.0        71.0  ...  0.0     1.0    0.0\n",
            "346          4          97.0        67.0  ...  0.0     0.0    1.0\n",
            "305          4         151.0        90.0  ...  1.0     0.0    0.0\n",
            "\n",
            "[5 rows x 9 columns] \n",
            "\n",
            " number of test data: 79 \n",
            "      Cylinders  Displacement  Horsepower  ...  USA  Europe  Japan\n",
            "145          4          83.0        61.0  ...  0.0     0.0    1.0\n",
            "142          4          79.0        67.0  ...  0.0     1.0    0.0\n",
            "215          8         318.0       150.0  ...  1.0     0.0    0.0\n",
            "169          6         232.0       100.0  ...  1.0     0.0    0.0\n",
            "223          8         318.0       145.0  ...  1.0     0.0    0.0\n",
            "\n",
            "[5 rows x 9 columns] \n",
            "\n",
            " number of train target: 313 \n",
            " 30     28.0\n",
            "200    18.0\n",
            "293    31.9\n",
            "346    32.3\n",
            "305    28.4\n",
            "Name: MPG, dtype: float64 \n",
            "\n",
            " number of test target: 79 \n",
            " 145    32.0\n",
            "142    26.0\n",
            "215    13.0\n",
            "169    20.0\n",
            "223    15.5\n",
            "Name: MPG, dtype: float64\n"
          ],
          "name": "stdout"
        }
      ]
    },
    {
      "cell_type": "code",
      "metadata": {
        "colab_type": "code",
        "outputId": "3b66a68f-bdec-415f-b12b-c3e1d8bc5c47",
        "id": "NQZJ0zpqxa42",
        "colab": {
          "base_uri": "https://localhost:8080/",
          "height": 221
        }
      },
      "source": [
        "# Normalize the data by subratcing the mean from each feature and divid by one standard deviation\n",
        "mean = x_train.mean(axis = 0)\n",
        "x_train -= mean\n",
        "\n",
        "std = x_train.std(axis = 0)\n",
        "x_train /= std\n",
        "\n",
        "x_test -= mean\n",
        "x_test /= std\n",
        "\n",
        "print(\"The shape of the training data is:\", x_train.shape)\n",
        "x_train.tail()"
      ],
      "execution_count": 13,
      "outputs": [
        {
          "output_type": "stream",
          "text": [
            "The shape of the training data is: (313, 9)\n"
          ],
          "name": "stdout"
        },
        {
          "output_type": "execute_result",
          "data": {
            "text/html": [
              "<div>\n",
              "<style scoped>\n",
              "    .dataframe tbody tr th:only-of-type {\n",
              "        vertical-align: middle;\n",
              "    }\n",
              "\n",
              "    .dataframe tbody tr th {\n",
              "        vertical-align: top;\n",
              "    }\n",
              "\n",
              "    .dataframe thead th {\n",
              "        text-align: right;\n",
              "    }\n",
              "</style>\n",
              "<table border=\"1\" class=\"dataframe\">\n",
              "  <thead>\n",
              "    <tr style=\"text-align: right;\">\n",
              "      <th></th>\n",
              "      <th>Cylinders</th>\n",
              "      <th>Displacement</th>\n",
              "      <th>Horsepower</th>\n",
              "      <th>Weight</th>\n",
              "      <th>Acceleration</th>\n",
              "      <th>Model Year</th>\n",
              "      <th>USA</th>\n",
              "      <th>Europe</th>\n",
              "      <th>Japan</th>\n",
              "    </tr>\n",
              "  </thead>\n",
              "  <tbody>\n",
              "    <tr>\n",
              "      <th>143</th>\n",
              "      <td>-0.861699</td>\n",
              "      <td>-0.923416</td>\n",
              "      <td>-0.688691</td>\n",
              "      <td>-0.796141</td>\n",
              "      <td>-0.363655</td>\n",
              "      <td>-0.489139</td>\n",
              "      <td>-1.240879</td>\n",
              "      <td>2.071553</td>\n",
              "      <td>-0.506169</td>\n",
              "    </tr>\n",
              "    <tr>\n",
              "      <th>168</th>\n",
              "      <td>-0.861699</td>\n",
              "      <td>-0.518462</td>\n",
              "      <td>-0.560473</td>\n",
              "      <td>-0.401378</td>\n",
              "      <td>0.517609</td>\n",
              "      <td>-0.218165</td>\n",
              "      <td>0.803306</td>\n",
              "      <td>-0.481187</td>\n",
              "      <td>-0.506169</td>\n",
              "    </tr>\n",
              "    <tr>\n",
              "      <th>286</th>\n",
              "      <td>1.499017</td>\n",
              "      <td>1.007181</td>\n",
              "      <td>0.619133</td>\n",
              "      <td>0.863262</td>\n",
              "      <td>-0.751412</td>\n",
              "      <td>0.865733</td>\n",
              "      <td>0.803306</td>\n",
              "      <td>-0.481187</td>\n",
              "      <td>-0.506169</td>\n",
              "    </tr>\n",
              "    <tr>\n",
              "      <th>151</th>\n",
              "      <td>-0.861699</td>\n",
              "      <td>-1.092932</td>\n",
              "      <td>-0.970770</td>\n",
              "      <td>-1.145489</td>\n",
              "      <td>0.165103</td>\n",
              "      <td>-0.489139</td>\n",
              "      <td>-1.240879</td>\n",
              "      <td>2.071553</td>\n",
              "      <td>-0.506169</td>\n",
              "    </tr>\n",
              "    <tr>\n",
              "      <th>219</th>\n",
              "      <td>-0.861699</td>\n",
              "      <td>-0.687978</td>\n",
              "      <td>-0.227106</td>\n",
              "      <td>-0.796141</td>\n",
              "      <td>-0.011150</td>\n",
              "      <td>0.323784</td>\n",
              "      <td>0.803306</td>\n",
              "      <td>-0.481187</td>\n",
              "      <td>-0.506169</td>\n",
              "    </tr>\n",
              "  </tbody>\n",
              "</table>\n",
              "</div>"
            ],
            "text/plain": [
              "     Cylinders  Displacement  Horsepower  ...       USA    Europe     Japan\n",
              "143  -0.861699     -0.923416   -0.688691  ... -1.240879  2.071553 -0.506169\n",
              "168  -0.861699     -0.518462   -0.560473  ...  0.803306 -0.481187 -0.506169\n",
              "286   1.499017      1.007181    0.619133  ...  0.803306 -0.481187 -0.506169\n",
              "151  -0.861699     -1.092932   -0.970770  ... -1.240879  2.071553 -0.506169\n",
              "219  -0.861699     -0.687978   -0.227106  ...  0.803306 -0.481187 -0.506169\n",
              "\n",
              "[5 rows x 9 columns]"
            ]
          },
          "metadata": {
            "tags": []
          },
          "execution_count": 13
        }
      ]
    },
    {
      "cell_type": "code",
      "metadata": {
        "id": "yims-CFbxbm5",
        "colab_type": "code",
        "outputId": "3d3d8a5e-f849-4b0a-824c-b6574f4aa881",
        "colab": {
          "base_uri": "https://localhost:8080/",
          "height": 221
        }
      },
      "source": [
        "print(\"The shape of the test data is:\", x_test.shape)\n",
        "x_test.head()"
      ],
      "execution_count": 14,
      "outputs": [
        {
          "output_type": "stream",
          "text": [
            "The shape of the test data is: (79, 9)\n"
          ],
          "name": "stdout"
        },
        {
          "output_type": "execute_result",
          "data": {
            "text/html": [
              "<div>\n",
              "<style scoped>\n",
              "    .dataframe tbody tr th:only-of-type {\n",
              "        vertical-align: middle;\n",
              "    }\n",
              "\n",
              "    .dataframe tbody tr th {\n",
              "        vertical-align: top;\n",
              "    }\n",
              "\n",
              "    .dataframe thead th {\n",
              "        text-align: right;\n",
              "    }\n",
              "</style>\n",
              "<table border=\"1\" class=\"dataframe\">\n",
              "  <thead>\n",
              "    <tr style=\"text-align: right;\">\n",
              "      <th></th>\n",
              "      <th>Cylinders</th>\n",
              "      <th>Displacement</th>\n",
              "      <th>Horsepower</th>\n",
              "      <th>Weight</th>\n",
              "      <th>Acceleration</th>\n",
              "      <th>Model Year</th>\n",
              "      <th>USA</th>\n",
              "      <th>Europe</th>\n",
              "      <th>Japan</th>\n",
              "    </tr>\n",
              "  </thead>\n",
              "  <tbody>\n",
              "    <tr>\n",
              "      <th>145</th>\n",
              "      <td>-0.861699</td>\n",
              "      <td>-1.055262</td>\n",
              "      <td>-1.124632</td>\n",
              "      <td>-1.141996</td>\n",
              "      <td>1.222621</td>\n",
              "      <td>-0.489139</td>\n",
              "      <td>-1.240879</td>\n",
              "      <td>-0.481187</td>\n",
              "      <td>1.969313</td>\n",
              "    </tr>\n",
              "    <tr>\n",
              "      <th>142</th>\n",
              "      <td>-0.861699</td>\n",
              "      <td>-1.092932</td>\n",
              "      <td>-0.970770</td>\n",
              "      <td>-1.188576</td>\n",
              "      <td>-0.011150</td>\n",
              "      <td>-0.489139</td>\n",
              "      <td>-1.240879</td>\n",
              "      <td>2.071553</td>\n",
              "      <td>-0.506169</td>\n",
              "    </tr>\n",
              "    <tr>\n",
              "      <th>215</th>\n",
              "      <td>1.499017</td>\n",
              "      <td>1.157862</td>\n",
              "      <td>1.157649</td>\n",
              "      <td>0.898196</td>\n",
              "      <td>-0.539908</td>\n",
              "      <td>0.052810</td>\n",
              "      <td>0.803306</td>\n",
              "      <td>-0.481187</td>\n",
              "      <td>-0.506169</td>\n",
              "    </tr>\n",
              "    <tr>\n",
              "      <th>169</th>\n",
              "      <td>0.318659</td>\n",
              "      <td>0.347953</td>\n",
              "      <td>-0.124531</td>\n",
              "      <td>-0.081142</td>\n",
              "      <td>0.165103</td>\n",
              "      <td>-0.218165</td>\n",
              "      <td>0.803306</td>\n",
              "      <td>-0.481187</td>\n",
              "      <td>-0.506169</td>\n",
              "    </tr>\n",
              "    <tr>\n",
              "      <th>223</th>\n",
              "      <td>1.499017</td>\n",
              "      <td>1.157862</td>\n",
              "      <td>1.029431</td>\n",
              "      <td>1.346526</td>\n",
              "      <td>-0.645660</td>\n",
              "      <td>0.323784</td>\n",
              "      <td>0.803306</td>\n",
              "      <td>-0.481187</td>\n",
              "      <td>-0.506169</td>\n",
              "    </tr>\n",
              "  </tbody>\n",
              "</table>\n",
              "</div>"
            ],
            "text/plain": [
              "     Cylinders  Displacement  Horsepower  ...       USA    Europe     Japan\n",
              "145  -0.861699     -1.055262   -1.124632  ... -1.240879 -0.481187  1.969313\n",
              "142  -0.861699     -1.092932   -0.970770  ... -1.240879  2.071553 -0.506169\n",
              "215   1.499017      1.157862    1.157649  ...  0.803306 -0.481187 -0.506169\n",
              "169   0.318659      0.347953   -0.124531  ...  0.803306 -0.481187 -0.506169\n",
              "223   1.499017      1.157862    1.029431  ...  0.803306 -0.481187 -0.506169\n",
              "\n",
              "[5 rows x 9 columns]"
            ]
          },
          "metadata": {
            "tags": []
          },
          "execution_count": 14
        }
      ]
    },
    {
      "cell_type": "code",
      "metadata": {
        "colab_type": "code",
        "id": "XX2i2EUn_BHT",
        "colab": {}
      },
      "source": [
        "# Built a sequential neural network model.  Start with backend.clear_session()\n",
        "backend.clear_session()\n",
        "model = models.Sequential()\n",
        "model.add(layers.Dense(72, activation = 'relu', input_shape = (x_train.shape[1],)))\n",
        "model.add(layers.Dense(18, activation = 'relu'))\n",
        "model.add(layers.Dense(1))\n",
        "# Think about what activation function you will use, the input shape, number of nodes, and output shape and activation"
      ],
      "execution_count": 0,
      "outputs": []
    },
    {
      "cell_type": "code",
      "metadata": {
        "colab_type": "code",
        "id": "A3mv0oLBR3XW",
        "colab": {}
      },
      "source": [
        "# Compile the model.  Use 'adam' optimizer.  Think about what loss function and metrics you need to use for a regression problem\n",
        "model.compile(optimizer = 'adam', loss  = 'mse', metrics=['mae'])"
      ],
      "execution_count": 0,
      "outputs": []
    },
    {
      "cell_type": "code",
      "metadata": {
        "colab_type": "code",
        "id": "vJ8KVfLF_Hv1",
        "colab": {}
      },
      "source": [
        "# Fit the model.  Use 1000 epochs.  Add a validation spit to your model.  Set verbose = 0.\n",
        "training_data, valid_data, training_target, valid_target = train_test_split(x_train, y_train, test_size=0.2, shuffle=True)\n",
        "\n",
        "history = model.fit(training_data, training_target,\n",
        "                   epochs = 603,\n",
        "                   batch_size=81,\n",
        "                   validation_data=(valid_data, valid_target),\n",
        "                   verbose = 0)"
      ],
      "execution_count": 0,
      "outputs": []
    },
    {
      "cell_type": "code",
      "metadata": {
        "colab_type": "code",
        "id": "oRfKjuM8UB5T",
        "outputId": "c0681a73-60ca-477b-bbfc-da5acb5224b5",
        "colab": {
          "base_uri": "https://localhost:8080/",
          "height": 119
        }
      },
      "source": [
        "# Use this bit of code to view the History output.\n",
        "hist = pd.DataFrame(history.history)\n",
        "print(hist.tail())"
      ],
      "execution_count": 18,
      "outputs": [
        {
          "output_type": "stream",
          "text": [
            "         loss       mae  val_loss   val_mae\n",
            "634  5.353632  1.696635  7.995203  2.044648\n",
            "635  5.224808  1.666019  7.917330  2.039028\n",
            "636  5.224534  1.663517  7.909989  2.044742\n",
            "637  5.248903  1.666605  7.986405  2.041117\n",
            "638  5.306507  1.660400  8.121813  2.048634\n"
          ],
          "name": "stdout"
        }
      ]
    },
    {
      "cell_type": "code",
      "metadata": {
        "colab_type": "code",
        "id": "7RRZWTz_9aYR",
        "outputId": "388cc682-db77-4264-a4e7-8e5ad06f7bca",
        "colab": {
          "base_uri": "https://localhost:8080/",
          "height": 68
        }
      },
      "source": [
        "# Evaluate the model on the test data and print the results\n",
        "results = model.evaluate(x_test, y_test)\n",
        "print(results)\n",
        "print(model.metrics_names)"
      ],
      "execution_count": 19,
      "outputs": [
        {
          "output_type": "stream",
          "text": [
            "79/79 [==============================] - 0s 140us/sample - loss: 5.0361 - mae: 1.6475\n",
            "[5.036098166357113, 1.6474721]\n",
            "['loss', 'mae']\n"
          ],
          "name": "stdout"
        }
      ]
    },
    {
      "cell_type": "code",
      "metadata": {
        "id": "iADkayh9VsCJ",
        "colab_type": "code",
        "outputId": "ccb3b42d-0bd5-4ee3-d876-22e70cb8803d",
        "colab": {
          "base_uri": "https://localhost:8080/",
          "height": 390
        }
      },
      "source": [
        "# The best validation values for the model\n",
        "new_df = hist.sort_values(by=['val_mae'])\n",
        "new_df.head(11)"
      ],
      "execution_count": 20,
      "outputs": [
        {
          "output_type": "execute_result",
          "data": {
            "text/html": [
              "<div>\n",
              "<style scoped>\n",
              "    .dataframe tbody tr th:only-of-type {\n",
              "        vertical-align: middle;\n",
              "    }\n",
              "\n",
              "    .dataframe tbody tr th {\n",
              "        vertical-align: top;\n",
              "    }\n",
              "\n",
              "    .dataframe thead th {\n",
              "        text-align: right;\n",
              "    }\n",
              "</style>\n",
              "<table border=\"1\" class=\"dataframe\">\n",
              "  <thead>\n",
              "    <tr style=\"text-align: right;\">\n",
              "      <th></th>\n",
              "      <th>loss</th>\n",
              "      <th>mae</th>\n",
              "      <th>val_loss</th>\n",
              "      <th>val_mae</th>\n",
              "    </tr>\n",
              "  </thead>\n",
              "  <tbody>\n",
              "    <tr>\n",
              "      <th>568</th>\n",
              "      <td>5.481907</td>\n",
              "      <td>1.700891</td>\n",
              "      <td>7.949884</td>\n",
              "      <td>1.986969</td>\n",
              "    </tr>\n",
              "    <tr>\n",
              "      <th>566</th>\n",
              "      <td>5.420843</td>\n",
              "      <td>1.687991</td>\n",
              "      <td>7.960226</td>\n",
              "      <td>1.987600</td>\n",
              "    </tr>\n",
              "    <tr>\n",
              "      <th>567</th>\n",
              "      <td>5.491950</td>\n",
              "      <td>1.701395</td>\n",
              "      <td>7.980238</td>\n",
              "      <td>1.990420</td>\n",
              "    </tr>\n",
              "    <tr>\n",
              "      <th>604</th>\n",
              "      <td>5.431302</td>\n",
              "      <td>1.687793</td>\n",
              "      <td>8.026818</td>\n",
              "      <td>1.992762</td>\n",
              "    </tr>\n",
              "    <tr>\n",
              "      <th>569</th>\n",
              "      <td>5.430271</td>\n",
              "      <td>1.681623</td>\n",
              "      <td>8.005309</td>\n",
              "      <td>1.997753</td>\n",
              "    </tr>\n",
              "    <tr>\n",
              "      <th>605</th>\n",
              "      <td>5.508213</td>\n",
              "      <td>1.710479</td>\n",
              "      <td>7.944834</td>\n",
              "      <td>1.999535</td>\n",
              "    </tr>\n",
              "    <tr>\n",
              "      <th>606</th>\n",
              "      <td>5.517296</td>\n",
              "      <td>1.727263</td>\n",
              "      <td>7.944922</td>\n",
              "      <td>2.003298</td>\n",
              "    </tr>\n",
              "    <tr>\n",
              "      <th>565</th>\n",
              "      <td>5.432767</td>\n",
              "      <td>1.697531</td>\n",
              "      <td>7.949693</td>\n",
              "      <td>2.004031</td>\n",
              "    </tr>\n",
              "    <tr>\n",
              "      <th>609</th>\n",
              "      <td>5.393679</td>\n",
              "      <td>1.692553</td>\n",
              "      <td>8.137687</td>\n",
              "      <td>2.004323</td>\n",
              "    </tr>\n",
              "    <tr>\n",
              "      <th>603</th>\n",
              "      <td>5.373550</td>\n",
              "      <td>1.671264</td>\n",
              "      <td>8.152276</td>\n",
              "      <td>2.006939</td>\n",
              "    </tr>\n",
              "    <tr>\n",
              "      <th>610</th>\n",
              "      <td>5.362798</td>\n",
              "      <td>1.674544</td>\n",
              "      <td>8.225165</td>\n",
              "      <td>2.008220</td>\n",
              "    </tr>\n",
              "  </tbody>\n",
              "</table>\n",
              "</div>"
            ],
            "text/plain": [
              "         loss       mae  val_loss   val_mae\n",
              "568  5.481907  1.700891  7.949884  1.986969\n",
              "566  5.420843  1.687991  7.960226  1.987600\n",
              "567  5.491950  1.701395  7.980238  1.990420\n",
              "604  5.431302  1.687793  8.026818  1.992762\n",
              "569  5.430271  1.681623  8.005309  1.997753\n",
              "605  5.508213  1.710479  7.944834  1.999535\n",
              "606  5.517296  1.727263  7.944922  2.003298\n",
              "565  5.432767  1.697531  7.949693  2.004031\n",
              "609  5.393679  1.692553  8.137687  2.004323\n",
              "603  5.373550  1.671264  8.152276  2.006939\n",
              "610  5.362798  1.674544  8.225165  2.008220"
            ]
          },
          "metadata": {
            "tags": []
          },
          "execution_count": 20
        }
      ]
    },
    {
      "cell_type": "code",
      "metadata": {
        "colab_type": "code",
        "id": "Hr819dPc9aXk",
        "colab": {}
      },
      "source": [
        "#Plot the loss and MAE vs epochs\n",
        "history_dict = history.history\n",
        "loss_values = history_dict['loss']\n",
        "val_loss_values = history_dict['val_loss']\n",
        "acc_values = history_dict['mae']\n",
        "val_acc_values = history_dict['val_mae']\n",
        "epochs = range(1, len(history_dict['mae']) + 1)"
      ],
      "execution_count": 0,
      "outputs": []
    },
    {
      "cell_type": "code",
      "metadata": {
        "colab_type": "code",
        "outputId": "00e4c885-b81d-4511-bd97-594b8f3ab11e",
        "id": "7CHXs8TQzURa",
        "colab": {
          "base_uri": "https://localhost:8080/",
          "height": 295
        }
      },
      "source": [
        "# Use the Boston Housing example to plot the validataion and training loss vs epochs\n",
        "plt.plot(epochs, loss_values, 'r', label = 'Training loss')\n",
        "plt.plot(epochs, val_loss_values, 'b', label = 'Validation loss')\n",
        "plt.ylim(2,15)\n",
        "plt.title('Training and validation loss')\n",
        "plt.xlabel('Epochs')\n",
        "plt.ylabel('Loss')\n",
        "plt.legend()\n",
        "plt.show()"
      ],
      "execution_count": 22,
      "outputs": [
        {
          "output_type": "display_data",
          "data": {
            "image/png": "[encoded data removed]",
            "text/plain": [
              "<Figure size 432x288 with 1 Axes>"
            ]
          },
          "metadata": {
            "tags": []
          }
        }
      ]
    },
    {
      "cell_type": "code",
      "metadata": {
        "colab_type": "code",
        "id": "04CcZh8x9aYH",
        "outputId": "6f84a357-6f92-4026-b025-8462a0f148f4",
        "colab": {
          "base_uri": "https://localhost:8080/",
          "height": 295
        }
      },
      "source": [
        "# Use the Boston Housing example to plot the validataion and training mean absolute error vs epochs\n",
        "plt.plot(epochs, acc_values, 'r', label = 'Training MAE')\n",
        "plt.plot(epochs, val_acc_values, 'b', label = 'Validation MAE')\n",
        "plt.ylim(1,3)\n",
        "plt.title('Training and validation MAE')\n",
        "plt.xlabel('Epochs')\n",
        "plt.ylabel('MAE')\n",
        "plt.legend()\n",
        "plt.show()"
      ],
      "execution_count": 23,
      "outputs": [
        {
          "output_type": "display_data",
          "data": {
            "image/png": "[encoded data removed]",
            "text/plain": [
              "<Figure size 432x288 with 1 Axes>"
            ]
          },
          "metadata": {
            "tags": []
          }
        }
      ]
    },
    {
      "cell_type": "code",
      "metadata": {
        "id": "sWt4mU71HRmk",
        "colab_type": "code",
        "outputId": "5314b43e-fd6c-4fe0-bf1c-7e6ce1d4cf78",
        "colab": {
          "base_uri": "https://localhost:8080/",
          "height": 68
        }
      },
      "source": [
        "backend.clear_session()\n",
        "model = models.Sequential()\n",
        "model.add(layers.Dense(72, activation = 'relu', input_shape = (x_train.shape[1],)))\n",
        "model.add(layers.Dense(18, activation = 'relu'))\n",
        "model.add(layers.Dense(1))\n",
        "\n",
        "model.compile(optimizer = 'adam', loss  = 'mse', metrics=['mae'])\n",
        "\n",
        "training_data, valid_data, training_target, valid_target = train_test_split(x_train, y_train, test_size=0.2, shuffle=True)\n",
        "\n",
        "history = model.fit(training_data, training_target,\n",
        "                   epochs = 568, # I used 568 looking at the table. 568th epoch gave the best validation. Could be a coincidence though.\n",
        "                   batch_size=81,\n",
        "                   validation_data=(valid_data, valid_target),\n",
        "                   verbose = 0)\n",
        "\n",
        "results = model.evaluate(x_test, y_test)\n",
        "print(results)\n",
        "print(model.metrics_names)"
      ],
      "execution_count": 29,
      "outputs": [
        {
          "output_type": "stream",
          "text": [
            "79/79 [==============================] - 0s 154us/sample - loss: 4.7514 - mae: 1.6036\n",
            "[4.75140112261229, 1.6036018]\n",
            "['loss', 'mae']\n"
          ],
          "name": "stdout"
        }
      ]
    },
    {
      "cell_type": "code",
      "metadata": {
        "id": "sKf8LktNXQzP",
        "colab_type": "code",
        "outputId": "6b5ed76a-0bdf-4200-9ca2-d3975cad56ee",
        "colab": {
          "base_uri": "https://localhost:8080/",
          "height": 359
        }
      },
      "source": [
        "hist = pd.DataFrame(history.history)\n",
        "new_df = hist.sort_values(by=['val_mae'])\n",
        "new_df.head(10)"
      ],
      "execution_count": 30,
      "outputs": [
        {
          "output_type": "execute_result",
          "data": {
            "text/html": [
              "<div>\n",
              "<style scoped>\n",
              "    .dataframe tbody tr th:only-of-type {\n",
              "        vertical-align: middle;\n",
              "    }\n",
              "\n",
              "    .dataframe tbody tr th {\n",
              "        vertical-align: top;\n",
              "    }\n",
              "\n",
              "    .dataframe thead th {\n",
              "        text-align: right;\n",
              "    }\n",
              "</style>\n",
              "<table border=\"1\" class=\"dataframe\">\n",
              "  <thead>\n",
              "    <tr style=\"text-align: right;\">\n",
              "      <th></th>\n",
              "      <th>loss</th>\n",
              "      <th>mae</th>\n",
              "      <th>val_loss</th>\n",
              "      <th>val_mae</th>\n",
              "    </tr>\n",
              "  </thead>\n",
              "  <tbody>\n",
              "    <tr>\n",
              "      <th>552</th>\n",
              "      <td>5.915562</td>\n",
              "      <td>1.677349</td>\n",
              "      <td>5.646641</td>\n",
              "      <td>1.815652</td>\n",
              "    </tr>\n",
              "    <tr>\n",
              "      <th>511</th>\n",
              "      <td>6.020625</td>\n",
              "      <td>1.687120</td>\n",
              "      <td>5.661199</td>\n",
              "      <td>1.819398</td>\n",
              "    </tr>\n",
              "    <tr>\n",
              "      <th>512</th>\n",
              "      <td>6.026568</td>\n",
              "      <td>1.687062</td>\n",
              "      <td>5.633977</td>\n",
              "      <td>1.820941</td>\n",
              "    </tr>\n",
              "    <tr>\n",
              "      <th>553</th>\n",
              "      <td>5.829824</td>\n",
              "      <td>1.664223</td>\n",
              "      <td>5.637846</td>\n",
              "      <td>1.823419</td>\n",
              "    </tr>\n",
              "    <tr>\n",
              "      <th>510</th>\n",
              "      <td>5.968524</td>\n",
              "      <td>1.679668</td>\n",
              "      <td>5.695345</td>\n",
              "      <td>1.825104</td>\n",
              "    </tr>\n",
              "    <tr>\n",
              "      <th>562</th>\n",
              "      <td>5.899025</td>\n",
              "      <td>1.668814</td>\n",
              "      <td>5.725152</td>\n",
              "      <td>1.829792</td>\n",
              "    </tr>\n",
              "    <tr>\n",
              "      <th>563</th>\n",
              "      <td>5.868933</td>\n",
              "      <td>1.662520</td>\n",
              "      <td>5.684273</td>\n",
              "      <td>1.831213</td>\n",
              "    </tr>\n",
              "    <tr>\n",
              "      <th>513</th>\n",
              "      <td>5.969800</td>\n",
              "      <td>1.685580</td>\n",
              "      <td>5.669844</td>\n",
              "      <td>1.836457</td>\n",
              "    </tr>\n",
              "    <tr>\n",
              "      <th>509</th>\n",
              "      <td>5.954592</td>\n",
              "      <td>1.683358</td>\n",
              "      <td>5.792457</td>\n",
              "      <td>1.837694</td>\n",
              "    </tr>\n",
              "    <tr>\n",
              "      <th>564</th>\n",
              "      <td>5.822189</td>\n",
              "      <td>1.661519</td>\n",
              "      <td>5.701087</td>\n",
              "      <td>1.842056</td>\n",
              "    </tr>\n",
              "  </tbody>\n",
              "</table>\n",
              "</div>"
            ],
            "text/plain": [
              "         loss       mae  val_loss   val_mae\n",
              "552  5.915562  1.677349  5.646641  1.815652\n",
              "511  6.020625  1.687120  5.661199  1.819398\n",
              "512  6.026568  1.687062  5.633977  1.820941\n",
              "553  5.829824  1.664223  5.637846  1.823419\n",
              "510  5.968524  1.679668  5.695345  1.825104\n",
              "562  5.899025  1.668814  5.725152  1.829792\n",
              "563  5.868933  1.662520  5.684273  1.831213\n",
              "513  5.969800  1.685580  5.669844  1.836457\n",
              "509  5.954592  1.683358  5.792457  1.837694\n",
              "564  5.822189  1.661519  5.701087  1.842056"
            ]
          },
          "metadata": {
            "tags": []
          },
          "execution_count": 30
        }
      ]
    },
    {
      "cell_type": "code",
      "metadata": {
        "colab_type": "code",
        "id": "TXiqSkQo9aXs",
        "outputId": "4b031f63-77a6-4284-b5d1-a81ba11ab166",
        "colab": {
          "base_uri": "https://localhost:8080/",
          "height": 295
        }
      },
      "source": [
        "# Use the Boston Housing example to plot the validataion and training loss vs epochs\n",
        "plt.plot(epochs, loss_values, 'r', label = 'Training loss')\n",
        "plt.plot(epochs, val_loss_values, 'b', label = 'Validation loss')\n",
        "plt.ylim(5,15)\n",
        "plt.title('Training and validation loss')\n",
        "plt.xlabel('Epochs')\n",
        "plt.ylabel('Loss')\n",
        "plt.legend()\n",
        "plt.show()"
      ],
      "execution_count": 31,
      "outputs": [
        {
          "output_type": "display_data",
          "data": {
            "image/png": "[encoded data removed]",
            "text/plain": [
              "<Figure size 432x288 with 1 Axes>"
            ]
          },
          "metadata": {
            "tags": []
          }
        }
      ]
    },
    {
      "cell_type": "code",
      "metadata": {
        "id": "ZETE2AGna5sC",
        "colab_type": "code",
        "outputId": "1d5d6973-71ad-4566-dab8-87fb97572ab8",
        "colab": {
          "base_uri": "https://localhost:8080/",
          "height": 295
        }
      },
      "source": [
        "history_dict = history.history\n",
        "loss_values = hist['loss']\n",
        "val_loss_values = hist['val_loss']\n",
        "acc_values = hist['mae']\n",
        "val_acc_values = hist['val_mae']\n",
        "epochs = range(1, len(hist['mae']) + 1)\n",
        "\n",
        "\n",
        "\n",
        "plt.plot(epochs, acc_values, 'r', label = 'Training MAE')\n",
        "plt.plot(epochs, val_acc_values, 'b', label = 'Validation MAE')\n",
        "plt.ylim(1,5)\n",
        "plt.title('Training and validation MAE')\n",
        "plt.xlabel('Epochs')\n",
        "plt.ylabel('MAE')\n",
        "plt.legend()\n",
        "plt.show()"
      ],
      "execution_count": 32,
      "outputs": [
        {
          "output_type": "display_data",
          "data": {
            "image/png": "[encoded data removed]",
            "text/plain": [
              "<Figure size 432x288 with 1 Axes>"
            ]
          },
          "metadata": {
            "tags": []
          }
        }
      ]
    },
    {
      "cell_type": "code",
      "metadata": {
        "colab_type": "code",
        "id": "qyRudHeQdRLt",
        "colab": {}
      },
      "source": [
        "# Clear your session using this command: backend.clear_session() \n",
        "# Build a new model and try to get the RME below 1.75\n",
        "# Things to try: more hidden layers and hiddent units, activation types, epochs, batch size, and validation_split.\n",
        "# Try as many models as you like.  Be sure to clear the session each time.  backend.clear_session() "
      ],
      "execution_count": 0,
      "outputs": []
    },
    {
      "cell_type": "code",
      "metadata": {
        "id": "jiCPpZbYhSYl",
        "colab_type": "code",
        "colab": {}
      },
      "source": [
        ""
      ],
      "execution_count": 0,
      "outputs": []
    }
  ]
}