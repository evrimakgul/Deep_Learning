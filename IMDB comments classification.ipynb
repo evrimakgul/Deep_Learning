{
  "nbformat": 4,
  "nbformat_minor": 0,
  "metadata": {
    "colab": {
      "name": "Untitled0.ipynb",
      "provenance": [],
      "authorship_tag": "ABX9TyMPTAyQLfClxpox/odrSq59",
      "include_colab_link": true
    },
    "kernelspec": {
      "name": "python3",
      "display_name": "Python 3"
    }
  },
  "cells": [
    {
      "cell_type": "markdown",
      "metadata": {
        "id": "view-in-github",
        "colab_type": "text"
      },
      "source": [
        "<a href=\"https://colab.research.google.com/github/evrimakgul/Deep_Learning/blob/master/IMDB%20comments%20classification.ipynb\" target=\"_parent\"><img src=\"https://colab.research.google.com/assets/colab-badge.svg\" alt=\"Open In Colab\"/></a>"
      ]
    },
    {
      "cell_type": "code",
      "metadata": {
        "id": "nhqV7XapnzZ2",
        "colab_type": "code",
        "colab": {
          "base_uri": "https://localhost:8080/",
          "height": 17
        },
        "outputId": "9bc3b25f-f62b-446c-9368-77bbfbe92447"
      },
      "source": [
        "from IPython.core.display import display, HTML\n",
        "display(HTML(\"<style>.container { width:95% !important; }</style>\"))"
      ],
      "execution_count": 1,
      "outputs": [
        {
          "output_type": "display_data",
          "data": {
            "text/html": [
              "<style>.container { width:95% !important; }</style>"
            ],
            "text/plain": [
              "<IPython.core.display.HTML object>"
            ]
          },
          "metadata": {
            "tags": []
          }
        }
      ]
    },
    {
      "cell_type": "code",
      "metadata": {
        "id": "FCITTJVln6so",
        "colab_type": "code",
        "colab": {
          "base_uri": "https://localhost:8080/",
          "height": 51
        },
        "outputId": "c6cd255b-768c-4925-d911-9ac7adc7de05"
      },
      "source": [
        "%tensorflow_version 2.x\n",
        "from tensorflow.keras.datasets import imdb\n",
        "import numpy as np\n",
        "from sklearn.model_selection import train_test_split\n",
        "!pip install numpy==1.16.1 # Keras IMDB data set is uncompatible with the current version of \"numpy\". Thus we downgrade \"numpy\" to a compatible version of it for Keras IMDB data set. This will require a restart of the \"runtime\". After the restart when we run the cell again, it should be working fine.\n",
        "import numpy as np\n",
        "(train_data, train_labels), (test_data, test_labels) = imdb.load_data(num_words=10000) # When we import the data we only select the 10,000 most common words in the reviews."
      ],
      "execution_count": 1,
      "outputs": [
        {
          "output_type": "stream",
          "text": [
            "TensorFlow 2.x selected.\n",
            "Requirement already satisfied: numpy==1.16.1 in /usr/local/lib/python3.6/dist-packages (1.16.1)\n"
          ],
          "name": "stdout"
        }
      ]
    },
    {
      "cell_type": "code",
      "metadata": {
        "id": "SVD7Ujg_oi_n",
        "colab_type": "code",
        "colab": {
          "base_uri": "https://localhost:8080/",
          "height": 34
        },
        "outputId": "7cc12e3a-8538-47e5-8e15-7913fe54232a"
      },
      "source": [
        "# The train_labels and test_labels consist of 0 and 1, representing negative (0s) and positve (1s) reviews, respectivly.\n",
        "print(train_labels[0:10])"
      ],
      "execution_count": 33,
      "outputs": [
        {
          "output_type": "stream",
          "text": [
            "[1 0 0 1 0 0 1 0 1 0]\n"
          ],
          "name": "stdout"
        }
      ]
    },
    {
      "cell_type": "code",
      "metadata": {
        "id": "C4YqgKYJqMhO",
        "colab_type": "code",
        "colab": {
          "base_uri": "https://localhost:8080/",
          "height": 34
        },
        "outputId": "18dbf6ab-ff33-43ef-dac0-d7c8d7321420"
      },
      "source": [
        "# There are 25,000 traing and text data \n",
        "print(train_data.shape)"
      ],
      "execution_count": 4,
      "outputs": [
        {
          "output_type": "stream",
          "text": [
            "(25000,)\n"
          ],
          "name": "stdout"
        }
      ]
    },
    {
      "cell_type": "code",
      "metadata": {
        "id": "edrXGX_Xqt9z",
        "colab_type": "code",
        "colab": {
          "base_uri": "https://localhost:8080/",
          "height": 51
        },
        "outputId": "e379e4a6-28dc-4451-d972-de83e02df393"
      },
      "source": [
        "# The train_data and test_data are already converted into word indices.  Each number below represents a word from the word index.  The word index is 10,000 digits: 0 to 9999\n",
        "print(train_data[0][:9]) # the first element of train data ([0]) and showing the first 9 elements of it ([:9]).\n",
        "print(len(train_data[0])) # it has 218 words in it. There is 24999 more elements in the set like this."
      ],
      "execution_count": 37,
      "outputs": [
        {
          "output_type": "stream",
          "text": [
            "[1, 14, 22, 16, 43, 530, 973, 1622, 1385]\n",
            "218\n"
          ],
          "name": "stdout"
        }
      ]
    },
    {
      "cell_type": "code",
      "metadata": {
        "id": "EI4FJYrOqxVW",
        "colab_type": "code",
        "colab": {
          "base_uri": "https://localhost:8080/",
          "height": 34
        },
        "outputId": "e47762c3-448e-49f0-eac6-eff41744ca1c"
      },
      "source": [
        "# Let's get and print the word index (only the most common 10000 of them)\n",
        "wi = imdb.get_word_index()\n",
        "# print(wi)\n",
        "print(tuple(wi.items())[0:5]) # only 5 of them if we do not need to see all 10000 of it."
      ],
      "execution_count": 40,
      "outputs": [
        {
          "output_type": "stream",
          "text": [
            "(('fawn', 34701), ('tsukino', 52006), ('nunnery', 52007), ('sonja', 16816), ('vani', 63951))\n"
          ],
          "name": "stdout"
        }
      ]
    },
    {
      "cell_type": "code",
      "metadata": {
        "id": "K-ZTcLNrrDZ3",
        "colab_type": "code",
        "colab": {
          "base_uri": "https://localhost:8080/",
          "height": 408
        },
        "outputId": "438ff1a6-9dd3-43b0-9644-5622557ca75c"
      },
      "source": [
        "# We can sort the items in the word index\n",
        "import operator\n",
        "sorted_by_values = sorted(wi.items(), key=operator.itemgetter(1))\n",
        "sorted_by_values[:23] # the first 23 words by their usage frequency"
      ],
      "execution_count": 41,
      "outputs": [
        {
          "output_type": "execute_result",
          "data": {
            "text/plain": [
              "[('the', 1),\n",
              " ('and', 2),\n",
              " ('a', 3),\n",
              " ('of', 4),\n",
              " ('to', 5),\n",
              " ('is', 6),\n",
              " ('br', 7),\n",
              " ('in', 8),\n",
              " ('it', 9),\n",
              " ('i', 10),\n",
              " ('this', 11),\n",
              " ('that', 12),\n",
              " ('was', 13),\n",
              " ('as', 14),\n",
              " ('for', 15),\n",
              " ('with', 16),\n",
              " ('movie', 17),\n",
              " ('but', 18),\n",
              " ('film', 19),\n",
              " ('on', 20),\n",
              " ('not', 21),\n",
              " ('you', 22),\n",
              " ('are', 23)]"
            ]
          },
          "metadata": {
            "tags": []
          },
          "execution_count": 41
        }
      ]
    },
    {
      "cell_type": "code",
      "metadata": {
        "id": "Txr40mA-12-0",
        "colab_type": "code",
        "colab": {
          "base_uri": "https://localhost:8080/",
          "height": 54
        },
        "outputId": "736e989a-2ef5-4b9c-9122-bef0f7ec6c40"
      },
      "source": [
        "# We can convert the word index back to a written review:\n",
        "reverse_word_index = dict(\n",
        "    [(value, key) for (key, value) in wi.items()])\n",
        "decoded_review = ' '.join(\n",
        "    [reverse_word_index.get(i-3, '?') for i in train_data[0]]) # here is the 9th review\n",
        "print(decoded_review)"
      ],
      "execution_count": 42,
      "outputs": [
        {
          "output_type": "stream",
          "text": [
            "? this film was just brilliant casting location scenery story direction everyone's really suited the part they played and you could just imagine being there robert ? is an amazing actor and now the same being director ? father came from the same scottish island as myself so i loved the fact there was a real connection with this film the witty remarks throughout the film were great it was just brilliant so much that i bought the film as soon as it was released for ? and would recommend it to everyone to watch and the fly fishing was amazing really cried at the end it was so sad and you know what they say if you cry at a film it must have been good and this definitely was also ? to the two little boy's that played the ? of norman and paul they were just brilliant children are often left out of the ? list i think because the stars that play them all grown up are such a big profile for the whole film but these children are amazing and should be praised for what they have done don't you think the whole story was so lovely because it was true and was someone's life after all that was shared with us all\n"
          ],
          "name": "stdout"
        }
      ]
    },
    {
      "cell_type": "code",
      "metadata": {
        "id": "Wd3z0xgU2WOt",
        "colab_type": "code",
        "colab": {}
      },
      "source": [
        "# We cannot add a single vector to a neural network. The data needs to be converted to a tensor.  This function will create a tensor that is 25000 by 10000. 25000 is the number of samples\n",
        "# and 10000 is the number of uniqe words. The tensor will have all zeros except for ones where that word is in the review.\n",
        "def vectorize_sequences(sequences, dimension=10000):\n",
        "    results = np.zeros((len(sequences), dimension))\n",
        "    for i, sequence in enumerate(sequences):\n",
        "        results[i, sequence] = 1.\n",
        "    return results"
      ],
      "execution_count": 0,
      "outputs": []
    },
    {
      "cell_type": "code",
      "metadata": {
        "id": "ADt2CkK935nR",
        "colab_type": "code",
        "colab": {}
      },
      "source": [
        "# Apply the vectorize function to the train_data and test_data\n",
        "x_train = vectorize_sequences(train_data)\n",
        "x_test = vectorize_sequences(test_data)"
      ],
      "execution_count": 0,
      "outputs": []
    },
    {
      "cell_type": "code",
      "metadata": {
        "id": "yl2o-zsx4Dmz",
        "colab_type": "code",
        "colab": {
          "base_uri": "https://localhost:8080/",
          "height": 68
        },
        "outputId": "6720b07d-5bac-4975-ba33-cba02a753bf2"
      },
      "source": [
        "# View the train shape, values, and dimensions\n",
        "print(x_train.shape)\n",
        "print(x_train[0])\n",
        "print(x_train.ndim)"
      ],
      "execution_count": 45,
      "outputs": [
        {
          "output_type": "stream",
          "text": [
            "(25000, 10000)\n",
            "[0. 1. 1. ... 0. 0. 0.]\n",
            "2\n"
          ],
          "name": "stdout"
        }
      ]
    },
    {
      "cell_type": "code",
      "metadata": {
        "id": "l9nYoWK5MBR9",
        "colab_type": "code",
        "colab": {}
      },
      "source": [
        "# Convert the y targets to float32\n",
        "y_train = np.asarray(train_labels).astype('float32')\n",
        "y_test = np.asarray(test_labels).astype('float32')"
      ],
      "execution_count": 0,
      "outputs": []
    },
    {
      "cell_type": "code",
      "metadata": {
        "id": "t3shgecSMYH2",
        "colab_type": "code",
        "colab": {}
      },
      "source": [
        "# Import the keras libraries\n",
        "from tensorflow.keras import models, layers\n",
        "from tensorflow.keras.layers import Flatten, Dense"
      ],
      "execution_count": 0,
      "outputs": []
    },
    {
      "cell_type": "code",
      "metadata": {
        "id": "i9YiJTs9MaEf",
        "colab_type": "code",
        "colab": {}
      },
      "source": [
        "# Build the model architecture.  Input shape must equal the number of vectors or (unique words).\n",
        "# Add one hidden layer with 16 units.  Keep the activation function as 'relu'\n",
        "# Since we have a binary classification, the output activation function will be 'sigmoid'\n",
        "# We will keep with the 'adam' optomizer function, loss = 'binary_crossentropy', and metrics = 'accuracy'\n",
        "model = models.Sequential()\n",
        "model.add(layers.Dense(16, activation = 'relu', input_shape = (10000,)))\n",
        "model.add(layers.Dense(16, activation = 'relu'))\n",
        "model.add(layers.Dense(1, activation = 'sigmoid'))\n",
        "model.compile(optimizer='adam',\n",
        "             loss = 'binary_crossentropy',\n",
        "             metrics = ['accuracy'])"
      ],
      "execution_count": 0,
      "outputs": []
    },
    {
      "cell_type": "code",
      "metadata": {
        "id": "hforZXRDMcKw",
        "colab_type": "code",
        "colab": {}
      },
      "source": [
        "x_train, x_valid, y_train, y_valid = train_test_split(x_train, y_train, test_size=0.2, shuffle= True)"
      ],
      "execution_count": 0,
      "outputs": []
    },
    {
      "cell_type": "code",
      "metadata": {
        "id": "lJnl37qTMhhy",
        "colab_type": "code",
        "colab": {
          "base_uri": "https://localhost:8080/",
          "height": 714
        },
        "outputId": "20531884-8976-4d56-8c7a-6d2399ee35ec"
      },
      "source": [
        "# Fit the model to the training data. \n",
        "history = model.fit(x_train,\n",
        "                   y_train,\n",
        "                   epochs = 20,\n",
        "                   batch_size = 500,\n",
        "                   validation_data = (x_valid, y_valid))"
      ],
      "execution_count": 50,
      "outputs": [
        {
          "output_type": "stream",
          "text": [
            "Train on 20000 samples, validate on 5000 samples\n",
            "Epoch 1/20\n",
            "20000/20000 [==============================] - 3s 151us/sample - loss: 0.5048 - accuracy: 0.7926 - val_loss: 0.3417 - val_accuracy: 0.8784\n",
            "Epoch 2/20\n",
            "20000/20000 [==============================] - 2s 93us/sample - loss: 0.2564 - accuracy: 0.9105 - val_loss: 0.2794 - val_accuracy: 0.8964\n",
            "Epoch 3/20\n",
            "20000/20000 [==============================] - 2s 91us/sample - loss: 0.1824 - accuracy: 0.9380 - val_loss: 0.2800 - val_accuracy: 0.8926\n",
            "Epoch 4/20\n",
            "20000/20000 [==============================] - 2s 92us/sample - loss: 0.1395 - accuracy: 0.9549 - val_loss: 0.2971 - val_accuracy: 0.8918\n",
            "Epoch 5/20\n",
            "20000/20000 [==============================] - 2s 94us/sample - loss: 0.1110 - accuracy: 0.9667 - val_loss: 0.3213 - val_accuracy: 0.8874\n",
            "Epoch 6/20\n",
            "20000/20000 [==============================] - 2s 93us/sample - loss: 0.0888 - accuracy: 0.9765 - val_loss: 0.3589 - val_accuracy: 0.8866\n",
            "Epoch 7/20\n",
            "20000/20000 [==============================] - 2s 95us/sample - loss: 0.0710 - accuracy: 0.9820 - val_loss: 0.3926 - val_accuracy: 0.8812\n",
            "Epoch 8/20\n",
            "20000/20000 [==============================] - 2s 92us/sample - loss: 0.0564 - accuracy: 0.9874 - val_loss: 0.4335 - val_accuracy: 0.8802\n",
            "Epoch 9/20\n",
            "20000/20000 [==============================] - 2s 93us/sample - loss: 0.0435 - accuracy: 0.9922 - val_loss: 0.4798 - val_accuracy: 0.8780\n",
            "Epoch 10/20\n",
            "20000/20000 [==============================] - 2s 91us/sample - loss: 0.0344 - accuracy: 0.9955 - val_loss: 0.5198 - val_accuracy: 0.8746\n",
            "Epoch 11/20\n",
            "20000/20000 [==============================] - 2s 94us/sample - loss: 0.0262 - accuracy: 0.9970 - val_loss: 0.5626 - val_accuracy: 0.8732\n",
            "Epoch 12/20\n",
            "20000/20000 [==============================] - 2s 93us/sample - loss: 0.0203 - accuracy: 0.9979 - val_loss: 0.6084 - val_accuracy: 0.8704\n",
            "Epoch 13/20\n",
            "20000/20000 [==============================] - 2s 94us/sample - loss: 0.0156 - accuracy: 0.9988 - val_loss: 0.6444 - val_accuracy: 0.8702\n",
            "Epoch 14/20\n",
            "20000/20000 [==============================] - 2s 93us/sample - loss: 0.0118 - accuracy: 0.9994 - val_loss: 0.6828 - val_accuracy: 0.8676\n",
            "Epoch 15/20\n",
            "20000/20000 [==============================] - 2s 94us/sample - loss: 0.0089 - accuracy: 0.9998 - val_loss: 0.7188 - val_accuracy: 0.8666\n",
            "Epoch 16/20\n",
            "20000/20000 [==============================] - 2s 93us/sample - loss: 0.0068 - accuracy: 0.9999 - val_loss: 0.7510 - val_accuracy: 0.8654\n",
            "Epoch 17/20\n",
            "20000/20000 [==============================] - 2s 92us/sample - loss: 0.0053 - accuracy: 0.9999 - val_loss: 0.7820 - val_accuracy: 0.8646\n",
            "Epoch 18/20\n",
            "20000/20000 [==============================] - 2s 93us/sample - loss: 0.0043 - accuracy: 1.0000 - val_loss: 0.8090 - val_accuracy: 0.8660\n",
            "Epoch 19/20\n",
            "20000/20000 [==============================] - 2s 93us/sample - loss: 0.0035 - accuracy: 1.0000 - val_loss: 0.8330 - val_accuracy: 0.8668\n",
            "Epoch 20/20\n",
            "20000/20000 [==============================] - 2s 93us/sample - loss: 0.0029 - accuracy: 1.0000 - val_loss: 0.8570 - val_accuracy: 0.8666\n"
          ],
          "name": "stdout"
        }
      ]
    },
    {
      "cell_type": "code",
      "metadata": {
        "id": "e4I1Ahd5NRSi",
        "colab_type": "code",
        "colab": {
          "base_uri": "https://localhost:8080/",
          "height": 119
        },
        "outputId": "419772a9-216a-4450-ef1e-190cceea621b"
      },
      "source": [
        "import pandas as pd\n",
        "# Use this bit of code to view the History output.\n",
        "hist = pd.DataFrame(history.history)\n",
        "print(hist.tail())"
      ],
      "execution_count": 55,
      "outputs": [
        {
          "output_type": "stream",
          "text": [
            "        loss  accuracy  val_loss  val_accuracy\n",
            "15  0.006850   0.99995  0.750996        0.8654\n",
            "16  0.005336   0.99995  0.782041        0.8646\n",
            "17  0.004263   1.00000  0.809000        0.8660\n",
            "18  0.003474   1.00000  0.833003        0.8668\n",
            "19  0.002894   1.00000  0.857021        0.8666\n"
          ],
          "name": "stdout"
        }
      ]
    },
    {
      "cell_type": "code",
      "metadata": {
        "id": "itGvhgZaOKy5",
        "colab_type": "code",
        "colab": {}
      },
      "source": [
        "# Let's plot the Loss vs Epochs and Accuracy vs Epochs\n",
        "import matplotlib.pyplot as plt\n",
        "history_dict = history.history\n",
        "loss_values = history_dict['loss']\n",
        "val_loss_values = history_dict['val_loss']\n",
        "acc_values = history_dict['accuracy']\n",
        "val_acc_values = history_dict['val_accuracy']\n",
        "epochs = range(1, len(history_dict['accuracy']) + 1)"
      ],
      "execution_count": 0,
      "outputs": []
    },
    {
      "cell_type": "code",
      "metadata": {
        "id": "Bd6tvABzQuAr",
        "colab_type": "code",
        "colab": {
          "base_uri": "https://localhost:8080/",
          "height": 295
        },
        "outputId": "fe84111e-8b71-45fe-fbfa-e127d9b562d3"
      },
      "source": [
        "plt.plot(epochs, loss_values, 'bo', label = 'Training loss')\n",
        "plt.plot(epochs, val_loss_values, 'b', label = 'Validation loss')\n",
        "plt.title('Training and validation loss')\n",
        "plt.xlabel('Epochs')\n",
        "plt.ylabel('Loss')\n",
        "plt.legend()\n",
        "plt.show()"
      ],
      "execution_count": 57,
      "outputs": [
        {
          "output_type": "display_data",
          "data": {
            "image/png": "[encoded data removed]",
            "text/plain": [
              "<Figure size 432x288 with 1 Axes>"
            ]
          },
          "metadata": {
            "tags": []
          }
        }
      ]
    },
    {
      "cell_type": "code",
      "metadata": {
        "id": "dGZozutORT7h",
        "colab_type": "code",
        "colab": {
          "base_uri": "https://localhost:8080/",
          "height": 295
        },
        "outputId": "d01e6884-8e4d-48f2-e0ad-ed77d9170a5a"
      },
      "source": [
        "plt.plot(epochs, acc_values, 'bo', label = 'Training accuracy')\n",
        "plt.plot(epochs, val_acc_values, 'b', label = 'Validation accuracy')\n",
        "plt.title('Training and validation accuracy')\n",
        "plt.xlabel('Epochs')\n",
        "plt.ylabel('Accuracy')\n",
        "plt.legend()\n",
        "plt.show()"
      ],
      "execution_count": 58,
      "outputs": [
        {
          "output_type": "display_data",
          "data": {
            "image/png": "[encoded data removed]",
            "text/plain": [
              "<Figure size 432x288 with 1 Axes>"
            ]
          },
          "metadata": {
            "tags": []
          }
        }
      ]
    },
    {
      "cell_type": "code",
      "metadata": {
        "id": "ZrIDS0M6RjNR",
        "colab_type": "code",
        "colab": {
          "base_uri": "https://localhost:8080/",
          "height": 187
        },
        "outputId": "71fae18b-cc8c-4203-c043-8bdf455b169f"
      },
      "source": [
        "# It looks like the Validation Loss increases after about 5 Epochs and the validation accuracy decreases after about \n",
        "# 5 epochs.  Lets refit the data but only use 5 epochs and then apply the model on the test data\n",
        "model = models.Sequential()\n",
        "model.add(layers.Dense(16, activation = 'relu', input_shape = (10000,)))\n",
        "model.add(layers.Dense(16, activation = 'relu'))\n",
        "model.add(layers.Dense(1, activation = 'sigmoid'))\n",
        "model.compile(optimizer='adam',\n",
        "             loss = 'binary_crossentropy',\n",
        "             metrics = ['accuracy'])\n",
        "\n",
        "model.fit(x_train,\n",
        "          y_train,\n",
        "          epochs = 3,\n",
        "          batch_size = 500)\n",
        "results = model.evaluate(x_test, y_test)\n",
        "print(model.metrics_names)\n",
        "print(results)"
      ],
      "execution_count": 59,
      "outputs": [
        {
          "output_type": "stream",
          "text": [
            "Train on 20000 samples\n",
            "Epoch 1/3\n",
            "20000/20000 [==============================] - 2s 112us/sample - loss: 0.5211 - accuracy: 0.7949\n",
            "Epoch 2/3\n",
            "20000/20000 [==============================] - 2s 80us/sample - loss: 0.2707 - accuracy: 0.9069\n",
            "Epoch 3/3\n",
            "20000/20000 [==============================] - 2s 80us/sample - loss: 0.1883 - accuracy: 0.9354\n",
            "25000/25000 [==============================] - 3s 100us/sample - loss: 0.2882 - accuracy: 0.8835\n",
            "['loss', 'accuracy']\n",
            "[0.28816632390975955, 0.88352]\n"
          ],
          "name": "stdout"
        }
      ]
    },
    {
      "cell_type": "code",
      "metadata": {
        "id": "UeejHxTqRrVt",
        "colab_type": "code",
        "colab": {
          "base_uri": "https://localhost:8080/",
          "height": 136
        },
        "outputId": "6b795ccb-83c7-409a-ce89-2294ad72b24a"
      },
      "source": [
        "# View the results\n",
        "model.predict(x_test)"
      ],
      "execution_count": 60,
      "outputs": [
        {
          "output_type": "execute_result",
          "data": {
            "text/plain": [
              "array([[0.13385975],\n",
              "       [0.9998024 ],\n",
              "       [0.9301454 ],\n",
              "       ...,\n",
              "       [0.10138951],\n",
              "       [0.12061323],\n",
              "       [0.61308354]], dtype=float32)"
            ]
          },
          "metadata": {
            "tags": []
          },
          "execution_count": 60
        }
      ]
    },
    {
      "cell_type": "code",
      "metadata": {
        "id": "CSJEqx5SR2Dr",
        "colab_type": "code",
        "colab": {
          "base_uri": "https://localhost:8080/",
          "height": 136
        },
        "outputId": "c96211bb-606f-4351-d100-ea95659773fb"
      },
      "source": [
        "# View the results rounded to a 1 or 0\n",
        "ans = model.predict(x_test)\n",
        "np.rint(ans)"
      ],
      "execution_count": 61,
      "outputs": [
        {
          "output_type": "execute_result",
          "data": {
            "text/plain": [
              "array([[0.],\n",
              "       [1.],\n",
              "       [1.],\n",
              "       ...,\n",
              "       [0.],\n",
              "       [0.],\n",
              "       [1.]], dtype=float32)"
            ]
          },
          "metadata": {
            "tags": []
          },
          "execution_count": 61
        }
      ]
    },
    {
      "cell_type": "code",
      "metadata": {
        "id": "tw2rDpQtR2Xj",
        "colab_type": "code",
        "colab": {}
      },
      "source": [
        ""
      ],
      "execution_count": 0,
      "outputs": []
    }
  ]
}